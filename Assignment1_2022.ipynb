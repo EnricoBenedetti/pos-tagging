{
  "cells": [
    {
      "cell_type": "markdown",
      "metadata": {
        "id": "-WeCeITXoxLf"
      },
      "source": [
        "# Assignment 1\n",
        "\n",
        "**Due to**: 11/01/2022 (dd/mm/yyyy)\n",
        "\n",
        "If you deliver it by 11/12/2021 your assignment will be graded by 11/01/2022.\n",
        "\n",
        "\n",
        "**Credits**: Andrea Galassi, Federico Ruggeri, Paolo Torroni\n",
        "\n",
        "**Summary**: Part-of Speech (POS) tagging as Sequence Labelling using Recurrent Neural Architectures\n",
        "\n",
        "Please, read ALL the following instructions :)"
      ]
    },
    {
      "cell_type": "markdown",
      "metadata": {
        "id": "a4_wqPdlBcKS"
      },
      "source": [
        "# Intro\n",
        "\n",
        "In this assignment  we will ask you to perform POS tagging using neural architectures\n",
        "\n",
        "You are asked to follow these steps:\n",
        "*   Download the corpora and split it in training and test sets, structuring a dataframe.\n",
        "*   Embed the words using GloVe embeddings\n",
        "*   Create a baseline model, using a simple neural architecture\n",
        "*   Experiment doing small modifications to the baseline model, choose hyperparameters using the validation set\n",
        "*   Evaluate your two best model\n",
        "*   Analyze the errors of your model\n",
        "\n",
        "\n",
        "**Task**: given a corpus of documents, predict the POS tag for each word\n",
        "\n",
        "**Corpus**:\n",
        "Ignore the numeric value in the third column, use only the words/symbols and its label. \n",
        "The corpus is available at:\n",
        "https://raw.githubusercontent.com/nltk/nltk_data/gh-pages/packages/corpora/dependency_treebank.zip\n",
        "\n",
        "**Splits**: documents 1-100 are the train set, 101-150 validation set, 151-199 test set.\n",
        "\n",
        "\n",
        "**Features**: you MUST use GloVe embeddings as the only input features to the model.\n",
        "\n",
        "**Splitting**: you can decide to split documents into sentences or not, the choice is yours.\n",
        "\n",
        "**I/O structure**: The input data will have three dimensions: 1-documents/sentences, 2-token, 3-features; for the output there are 2 possibilities: if you use one-hot encoding it will be 1-documents/sentences, 2-token labels, 3-classes, if you use a single integer that indicates the number of the class it will be 1-documents/sentences, 2-token labels.\n",
        "\n",
        "**Baseline**: two layers architecture: a Bidirectional LSTM layer and a Dense/Fully-Connected layer on top; the choice of hyper-parameters is yours.\n",
        "\n",
        "**Architectures**: experiment using a GRU instead of the LSTM, adding an additional LSTM layer, and adding an additional dense layer; do not mix these variantions.\n",
        "\n",
        "\n",
        "**Training and Experiments**: all the experiments must involve only the training and validation sets.\n",
        "\n",
        "**Evaluation**: in the end, only the two best models of your choice (according to the validation set) must be evaluated on the test set. The main metric must be F1-Macro computed between the various part of speech. DO NOT CONSIDER THE PUNCTUATION CLASSES. [What is punctuation?]{https://en.wikipedia.org/wiki/English_punctuation}\n",
        "\n",
        "**Metrics**: the metric you must use to evaluate your final model is the F1-macro, WITHOUT considering punctuation/symbols classes; during the training process you can use accuracy because you can't use the F1 metric unless you use a single (gigantic) batch because there is no way to aggregate \"partial\" F1 scores computed on mini-batches.\n",
        "\n",
        "**Discussion and Error Analysis** : verify and discuss if the results on the test sets are coherent with those on the validation set; analyze the errors done by your model, try to understand which may be the causes and think about how to improve it.\n",
        "\n",
        "**Report**: you are asked to deliver the code of your experiments and a small pdf report of about 2 pages; the pdf must begin with the names of the people of your team and a small abstract (4-5 lines) that sums up your findings.\n",
        "\n",
        "# Out Of Vocabulary (OOV) terms\n",
        "\n",
        "How to handle words that are not in GloVe vocabulary?\n",
        "You can handle them as you want (random embedding, placeholder, whatever!), but they must be STATIC embeddings (you cannot train them).\n",
        "\n",
        "But there is a very important caveat! As usual, the element of the test set must not influence the elements of the other splits!\n",
        "If you use random embeddings or placeholder embeddings (e.g., everything is 0) this is automatically solved.\n",
        "\n",
        "If you want to use other techniques: when you compute new embeddings for train+validation, you must forget about test documents.\n",
        "The motivation is to emulate a real-world scenario, where you select and train a model in the first stage, without knowing nothing about the testing environment.\n",
        "\n",
        "For implementation convenience, you CAN use a single vocabulary file/matrix/whatever. The principle of the previous point is that the embeddings inside that file/matrix must be generated independently for train and test splits.\n",
        "\n",
        "Basically in a real-world scenario, this is what would happen:\n",
        "1. Starting vocabulary V1 (in this assignment, GloVe vocabulary)\n",
        "2. Compute embeddings for terms out of vocabulary V1 (OOV1) of the training split \n",
        "3. Add embeddings to the vocabulary, so to obtain vocabulary V2=V1+OOV1\n",
        "4. Training of the model(s)\n",
        "5. Compute embeddings for terms OOV2 of the validation split \n",
        "6. Add embeddings to the vocabulary, so to obtain vocabulary V3=V1+OOV1+OOV2\n",
        "7. Validation of the model(s)\n",
        "8. Compute embeddings for terms OOV3 of the test split \n",
        "9. Add embeddings to the vocabulary, so to obtain vocabulary V4=V1+OOV1+OOV2+OOV3\n",
        "10. Testing of the final model\n",
        "\n",
        "In this case, where we already have all the documents, we can simplify the process a bit, but the procedure must remain rigorous.\n",
        "\n",
        "1. Starting vocabulary V1 (in this assignment, GloVe vocabulary)\n",
        "2. Compute embeddings for terms out of vocabulary V1 (OOV1) of the training split \n",
        "3. Add embeddings to the vocabulary, so to obtain vocabulary V2=V1+OOV1\n",
        "4. Compute embeddings for terms OOV2 of the validation split \n",
        "5. Add embeddings to the vocabulary, so to obtain vocabulary V3=V1+OOV1+OOV2\n",
        "6. Compute embeddings for terms OOV3 of the test split \n",
        "7. Add embeddings to the vocabulary, so to obtain vocabulary V4=V1+OOV1+OOV2+OOV3\n",
        "8. Training of the model(s)\n",
        "9. Validation of the model(s)\n",
        "10. Testing of the final model\n",
        "\n",
        "Step 2 and step 6 must be completely independent of each other, for what concerns the method and the documents. But they can rely on the previous vocabulary (V1 for step 2 and V3 for step 6)\n",
        "THEREFORE if a word is present both in the training set and the test split and not in the starting vocabulary, its embedding is computed in step 2) and it is not considered OOV anymore in step 6).\n",
        "\n",
        "# Report\n",
        "The report must not be just a copy and paste of graphs and tables!\n",
        "\n",
        "The report must not be longer than 2 pages and must contain:\n",
        "* The names of the member of your team\n",
        "* A short abstract (4-5 lines) that sum ups everything\n",
        "* A general (brief!) description of the task you have addressed and how you have addressed it\n",
        "* A brief analysis of the data (class distribution, lenght, etc)\n",
        "* A short description of the models you have used\n",
        "* Some tables that sum up your findings in validation and test and a discussion of those results\n",
        "* The most relevant findings of your error analysis\n",
        "\n",
        "\n",
        "# Evaluation Criterion\n",
        "\n",
        "The goal of this assignment is not to prove you can find best model ever, but to face a common task, structure it correctly, and follow a correct and rigorous experimental procedure.\n",
        "In other words, we don't care if you final models are awful as long as you have followed the correct procedure and wrote a decent report.\n",
        "\n",
        "The score of the assignment will be computed roughly as follows\n",
        "* 1 point for the correctness of approach/methodology\n",
        "* 1 point for the handling of OOV terms\n",
        "* 1 point for the correct implementation of models (they must run and do the right thing)\n",
        "* 1 point for train-validation-test procedure\n",
        "* 2 point for the discussion of the results, error analysis, and report\n",
        "\n",
        "The evaluation will not be based on the performance of the models!\n",
        "\n",
        "We also reserve the right to assign a small bonus (0.5 points) to any assignment that is particularly worthy. \n",
        "\n",
        "# Deliver\n",
        "\n",
        "* Two files: a pdf file for the report, and a python notebook\n",
        "* Put the names of the member of the team at the beginning of both files\n",
        "* What about additional files, for example models or weights? You can upload them in a private cloud and insert the link in the report.\n",
        "* Please, submit a notebook with clear sections, text boxes, and comments and indications about what is going on in the code. When we do not understand what is going on we get annoyed, when we are annoyed we tend to be more severe in our evaluation.\n",
        "\n",
        "\n",
        "\n",
        "# Contacts\n",
        "\n",
        "In case of any doubt, question, issue, or help we highly recommend you to check the [course useful material](https://virtuale.unibo.it/pluginfile.php/1273064/mod_resource/content/2/NLP_Course_Useful_Material.pdf) for additional information, and to use the Virtuale forums to discuss with other students.\n",
        "\n",
        "You can always contact us at the following email addresses. To increase the probability of a prompt response, we reccomend you to write to both the teaching assistants.\n",
        "If we do not reply within 3-4 days, please send it again!\n",
        "\n",
        "Teaching Assistants:\n",
        "\n",
        "* Andrea Galassi -> a.galassi@unibo.it\n",
        "* Federico Ruggeri -> federico.ruggeri6@unibo.it\n",
        "\n",
        "Professor:\n",
        "\n",
        "* Paolo Torroni -> p.torroni@unibo.it\n",
        "\n",
        "\n",
        "# Additional notes and FAQ\n",
        "* You can use a non-trainable Embedding layer to load the glove embeddings\n",
        "* For the baseline, it must have only two trainable layers: the BiLSTM and the Dense/FC one. The Dense layer is the \"classification head\" with softmax activation. You must not add an additional dense layer on top of the baseline. You can use the embedding layer before the BiLSTM, but it must be not trainable.\n",
        "* You can use any library of your choice to implement the networks. Two options are tensorflow/keras or pythorch. Both these libraries have all the classes you need to implement these simple architectures and there are plenty of tutorials around, where you can learn how to use them.\n",
        "* For the application of the Dense Layer, it is recommended to use a Time-Distributed Dense. In any case, doing otherwise is NOT considered an error.\n",
        "* Some examples of things you can analyze in your discussion and error analysis are: the performances on the most frequent classes and the less frequent classes, precision and recall, the confusion tables, specific misclassified samples.\n",
        "* Punctuation: you must keep the punctuation in the documents, since it may be helpful for the model, you simply must ignore it when you perform the evaluation of the model, not considering the punctuation classes among the ones you use to compute F1 macro score. If you are curious, you can run ADDITIONAL experiments where you remove punctuation to see its impact."
      ]
    },
    {
      "cell_type": "markdown",
      "metadata": {
        "id": "AWnwEsy4tY81"
      },
      "source": [
        "___\n",
        "# ASSIGNMENT START \n",
        "___"
      ]
    },
    {
      "cell_type": "code",
      "execution_count": 1,
      "metadata": {
        "colab": {
          "base_uri": "https://localhost:8080/"
        },
        "execution": {
          "iopub.execute_input": "2022-11-30T14:34:26.494384Z",
          "iopub.status.busy": "2022-11-30T14:34:26.493851Z",
          "iopub.status.idle": "2022-11-30T14:36:33.196895Z",
          "shell.execute_reply": "2022-11-30T14:36:33.195324Z",
          "shell.execute_reply.started": "2022-11-30T14:34:26.494278Z"
        },
        "id": "tnKdqckn2m7J",
        "outputId": "0adaabac-8130-4aa0-c89e-8a572247860c",
        "trusted": true
      },
      "outputs": [
        {
          "name": "stdout",
          "output_type": "stream",
          "text": [
            "Looking in indexes: https://pypi.org/simple, https://us-python.pkg.dev/colab-wheels/public/simple/\n",
            "Requirement already satisfied: torch in /usr/local/lib/python3.8/dist-packages (1.13.0+cu116)\n",
            "Requirement already satisfied: typing-extensions in /usr/local/lib/python3.8/dist-packages (from torch) (4.4.0)\n",
            "Looking in indexes: https://pypi.org/simple, https://us-python.pkg.dev/colab-wheels/public/simple/\n",
            "Collecting torch-summary\n",
            "  Downloading torch_summary-1.4.5-py3-none-any.whl (16 kB)\n",
            "Installing collected packages: torch-summary\n",
            "Successfully installed torch-summary-1.4.5\n",
            "Looking in indexes: https://pypi.org/simple, https://us-python.pkg.dev/colab-wheels/public/simple/\n",
            "Requirement already satisfied: gensim in /usr/local/lib/python3.8/dist-packages (3.6.0)\n",
            "Collecting gensim\n",
            "  Downloading gensim-4.2.0-cp38-cp38-manylinux_2_12_x86_64.manylinux2010_x86_64.whl (24.1 MB)\n",
            "\u001b[K     |████████████████████████████████| 24.1 MB 1.4 MB/s \n",
            "\u001b[?25hRequirement already satisfied: scipy>=0.18.1 in /usr/local/lib/python3.8/dist-packages (from gensim) (1.7.3)\n",
            "Requirement already satisfied: smart-open>=1.8.1 in /usr/local/lib/python3.8/dist-packages (from gensim) (5.2.1)\n",
            "Requirement already satisfied: numpy>=1.17.0 in /usr/local/lib/python3.8/dist-packages (from gensim) (1.21.6)\n",
            "Installing collected packages: gensim\n",
            "  Attempting uninstall: gensim\n",
            "    Found existing installation: gensim 3.6.0\n",
            "    Uninstalling gensim-3.6.0:\n",
            "      Successfully uninstalled gensim-3.6.0\n",
            "Successfully installed gensim-4.2.0\n",
            "Looking in indexes: https://pypi.org/simple, https://us-python.pkg.dev/colab-wheels/public/simple/\n",
            "Requirement already satisfied: torchtext in /usr/local/lib/python3.8/dist-packages (0.14.0)\n",
            "Requirement already satisfied: tqdm in /usr/local/lib/python3.8/dist-packages (from torchtext) (4.64.1)\n",
            "Requirement already satisfied: numpy in /usr/local/lib/python3.8/dist-packages (from torchtext) (1.21.6)\n",
            "Requirement already satisfied: torch==1.13.0 in /usr/local/lib/python3.8/dist-packages (from torchtext) (1.13.0+cu116)\n",
            "Requirement already satisfied: requests in /usr/local/lib/python3.8/dist-packages (from torchtext) (2.23.0)\n",
            "Requirement already satisfied: typing-extensions in /usr/local/lib/python3.8/dist-packages (from torch==1.13.0->torchtext) (4.4.0)\n",
            "Requirement already satisfied: chardet<4,>=3.0.2 in /usr/local/lib/python3.8/dist-packages (from requests->torchtext) (3.0.4)\n",
            "Requirement already satisfied: urllib3!=1.25.0,!=1.25.1,<1.26,>=1.21.1 in /usr/local/lib/python3.8/dist-packages (from requests->torchtext) (1.24.3)\n",
            "Requirement already satisfied: certifi>=2017.4.17 in /usr/local/lib/python3.8/dist-packages (from requests->torchtext) (2022.9.24)\n",
            "Requirement already satisfied: idna<3,>=2.5 in /usr/local/lib/python3.8/dist-packages (from requests->torchtext) (2.10)\n",
            "Looking in indexes: https://pypi.org/simple, https://us-python.pkg.dev/colab-wheels/public/simple/\n",
            "Collecting ray[tune]\n",
            "  Downloading ray-2.1.0-cp38-cp38-manylinux2014_x86_64.whl (58.9 MB)\n",
            "\u001b[K     |████████████████████████████████| 58.9 MB 1.2 MB/s \n",
            "\u001b[?25hRequirement already satisfied: requests in /usr/local/lib/python3.8/dist-packages (from ray[tune]) (2.23.0)\n",
            "Requirement already satisfied: attrs in /usr/local/lib/python3.8/dist-packages (from ray[tune]) (22.1.0)\n",
            "Requirement already satisfied: aiosignal in /usr/local/lib/python3.8/dist-packages (from ray[tune]) (1.3.1)\n",
            "Requirement already satisfied: filelock in /usr/local/lib/python3.8/dist-packages (from ray[tune]) (3.8.0)\n",
            "Requirement already satisfied: jsonschema in /usr/local/lib/python3.8/dist-packages (from ray[tune]) (4.3.3)\n",
            "Collecting virtualenv>=20.0.24\n",
            "  Downloading virtualenv-20.17.1-py3-none-any.whl (8.8 MB)\n",
            "\u001b[K     |████████████████████████████████| 8.8 MB 21.8 MB/s \n",
            "\u001b[?25hRequirement already satisfied: pyyaml in /usr/local/lib/python3.8/dist-packages (from ray[tune]) (6.0)\n",
            "Requirement already satisfied: frozenlist in /usr/local/lib/python3.8/dist-packages (from ray[tune]) (1.3.3)\n",
            "Requirement already satisfied: numpy>=1.16 in /usr/local/lib/python3.8/dist-packages (from ray[tune]) (1.21.6)\n",
            "Requirement already satisfied: click<=8.0.4,>=7.0 in /usr/local/lib/python3.8/dist-packages (from ray[tune]) (7.1.2)\n",
            "Requirement already satisfied: msgpack<2.0.0,>=1.0.0 in /usr/local/lib/python3.8/dist-packages (from ray[tune]) (1.0.4)\n",
            "Requirement already satisfied: protobuf!=3.19.5,>=3.15.3 in /usr/local/lib/python3.8/dist-packages (from ray[tune]) (3.19.6)\n",
            "Requirement already satisfied: grpcio>=1.32.0 in /usr/local/lib/python3.8/dist-packages (from ray[tune]) (1.51.1)\n",
            "Requirement already satisfied: tabulate in /usr/local/lib/python3.8/dist-packages (from ray[tune]) (0.8.10)\n",
            "Collecting tensorboardX>=1.9\n",
            "  Downloading tensorboardX-2.5.1-py2.py3-none-any.whl (125 kB)\n",
            "\u001b[K     |████████████████████████████████| 125 kB 73.5 MB/s \n",
            "\u001b[?25hRequirement already satisfied: pandas in /usr/local/lib/python3.8/dist-packages (from ray[tune]) (1.3.5)\n",
            "Collecting distlib<1,>=0.3.6\n",
            "  Downloading distlib-0.3.6-py2.py3-none-any.whl (468 kB)\n",
            "\u001b[K     |████████████████████████████████| 468 kB 70.4 MB/s \n",
            "\u001b[?25hRequirement already satisfied: platformdirs<3,>=2.4 in /usr/local/lib/python3.8/dist-packages (from virtualenv>=20.0.24->ray[tune]) (2.5.4)\n",
            "Requirement already satisfied: importlib-resources>=1.4.0 in /usr/local/lib/python3.8/dist-packages (from jsonschema->ray[tune]) (5.10.0)\n",
            "Requirement already satisfied: pyrsistent!=0.17.0,!=0.17.1,!=0.17.2,>=0.14.0 in /usr/local/lib/python3.8/dist-packages (from jsonschema->ray[tune]) (0.19.2)\n",
            "Requirement already satisfied: zipp>=3.1.0 in /usr/local/lib/python3.8/dist-packages (from importlib-resources>=1.4.0->jsonschema->ray[tune]) (3.11.0)\n",
            "Requirement already satisfied: python-dateutil>=2.7.3 in /usr/local/lib/python3.8/dist-packages (from pandas->ray[tune]) (2.8.2)\n",
            "Requirement already satisfied: pytz>=2017.3 in /usr/local/lib/python3.8/dist-packages (from pandas->ray[tune]) (2022.6)\n",
            "Requirement already satisfied: six>=1.5 in /usr/local/lib/python3.8/dist-packages (from python-dateutil>=2.7.3->pandas->ray[tune]) (1.15.0)\n",
            "Requirement already satisfied: idna<3,>=2.5 in /usr/local/lib/python3.8/dist-packages (from requests->ray[tune]) (2.10)\n",
            "Requirement already satisfied: certifi>=2017.4.17 in /usr/local/lib/python3.8/dist-packages (from requests->ray[tune]) (2022.9.24)\n",
            "Requirement already satisfied: urllib3!=1.25.0,!=1.25.1,<1.26,>=1.21.1 in /usr/local/lib/python3.8/dist-packages (from requests->ray[tune]) (1.24.3)\n",
            "Requirement already satisfied: chardet<4,>=3.0.2 in /usr/local/lib/python3.8/dist-packages (from requests->ray[tune]) (3.0.4)\n",
            "Installing collected packages: distlib, virtualenv, tensorboardX, ray\n",
            "Successfully installed distlib-0.3.6 ray-2.1.0 tensorboardX-2.5.1 virtualenv-20.17.1\n",
            "Looking in indexes: https://pypi.org/simple, https://us-python.pkg.dev/colab-wheels/public/simple/\n",
            "Collecting torchmetrics\n",
            "  Downloading torchmetrics-0.11.0-py3-none-any.whl (512 kB)\n",
            "\u001b[K     |████████████████████████████████| 512 kB 14.6 MB/s \n",
            "\u001b[?25hRequirement already satisfied: numpy>=1.17.2 in /usr/local/lib/python3.8/dist-packages (from torchmetrics) (1.21.6)\n",
            "Requirement already satisfied: packaging in /usr/local/lib/python3.8/dist-packages (from torchmetrics) (21.3)\n",
            "Requirement already satisfied: torch>=1.8.1 in /usr/local/lib/python3.8/dist-packages (from torchmetrics) (1.13.0+cu116)\n",
            "Requirement already satisfied: typing-extensions in /usr/local/lib/python3.8/dist-packages (from torchmetrics) (4.4.0)\n",
            "Requirement already satisfied: pyparsing!=3.0.5,>=2.0.2 in /usr/local/lib/python3.8/dist-packages (from packaging->torchmetrics) (3.0.9)\n",
            "Installing collected packages: torchmetrics\n",
            "Successfully installed torchmetrics-0.11.0\n"
          ]
        }
      ],
      "source": [
        "# installing requirements\n",
        "!pip install torch\n",
        "!pip install --upgrade gensim\n",
        "!pip install torchtext\n",
        "!pip install \"ray[tune]\"\n",
        "!pip install torchmetrics"
      ]
    },
    {
      "cell_type": "markdown",
      "metadata": {
        "id": "a_IB-UoM5haA"
      },
      "source": [
        "# Imports and Download of the dataset"
      ]
    },
    {
      "cell_type": "code",
      "execution_count": 2,
      "metadata": {
        "execution": {
          "iopub.execute_input": "2022-11-30T14:36:33.202610Z",
          "iopub.status.busy": "2022-11-30T14:36:33.200527Z",
          "iopub.status.idle": "2022-11-30T14:36:39.193371Z",
          "shell.execute_reply": "2022-11-30T14:36:39.191486Z",
          "shell.execute_reply.started": "2022-11-30T14:36:33.202542Z"
        },
        "id": "w42dPSvi2m7M",
        "trusted": true
      },
      "outputs": [],
      "source": [
        "# Libraries imports\n",
        "\n",
        "# File management\n",
        "import os, shutil  \n",
        "import sys \n",
        "\n",
        "# Time\n",
        "import time \n",
        "\n",
        "# Dataframe management\n",
        "import pandas as pd  \n",
        "\n",
        "# Data manipulation\n",
        "import numpy as np  \n",
        "import math\n",
        "import random\n",
        "\n",
        "# Download files\n",
        "import urllib.request\n",
        "# Unzip files\n",
        "import tarfile\n",
        "\n",
        "# NN managers\n",
        "import torch\n",
        "import torch.nn as nn\n",
        "from torch.autograd import Variable\n",
        "import torch.optim as optim\n",
        "from torch.utils.data import DataLoader\n",
        "import torchmetrics\n",
        "\n",
        "# Plotting\n",
        "from matplotlib import pyplot as plt\n",
        "import matplotlib.pyplot as plt \n",
        "import matplotlib.ticker as mticker\n",
        "\n",
        "# Embedding manager\n",
        "import gensim\n",
        "import gensim.downloader as gloader\n",
        "\n",
        "# stats\n",
        "from sklearn.metrics import classification_report, ConfusionMatrixDisplay"
      ]
    },
    {
      "attachments": {},
      "cell_type": "markdown",
      "metadata": {
        "id": "qZ20WbiA5D7i"
      },
      "source": [
        "Fixing seeds for randomness to get deterministic results. (LSTM implementatation not guaranteed to be, see [PyTorch documentation](https://pytorch.org/docs/stable/generated/torch.nn.LSTM.html))"
      ]
    },
    {
      "cell_type": "code",
      "execution_count": 4,
      "metadata": {
        "execution": {
          "iopub.execute_input": "2022-11-30T14:36:39.216288Z",
          "iopub.status.busy": "2022-11-30T14:36:39.215128Z",
          "iopub.status.idle": "2022-11-30T14:36:39.227576Z",
          "shell.execute_reply": "2022-11-30T14:36:39.225949Z",
          "shell.execute_reply.started": "2022-11-30T14:36:39.216196Z"
        },
        "id": "yj9gdxAV5D7j",
        "trusted": true
      },
      "outputs": [],
      "source": [
        "SEED = 42\n",
        "random.seed(SEED) # random\n",
        "np.random.seed(SEED) # numpy\n",
        "torch.manual_seed(SEED); # pytorch"
      ]
    },
    {
      "attachments": {},
      "cell_type": "markdown",
      "metadata": {},
      "source": [
        "Dataset download"
      ]
    },
    {
      "cell_type": "code",
      "execution_count": 5,
      "metadata": {
        "colab": {
          "base_uri": "https://localhost:8080/"
        },
        "execution": {
          "iopub.execute_input": "2022-11-30T14:36:39.232879Z",
          "iopub.status.busy": "2022-11-30T14:36:39.230454Z",
          "iopub.status.idle": "2022-11-30T14:36:39.724800Z",
          "shell.execute_reply": "2022-11-30T14:36:39.723407Z",
          "shell.execute_reply.started": "2022-11-30T14:36:39.232800Z"
        },
        "id": "eqtiEMwftYl2",
        "outputId": "2d0002a2-9636-40a3-b6f4-e39e720b8d67",
        "trusted": true
      },
      "outputs": [
        {
          "name": "stdout",
          "output_type": "stream",
          "text": [
            "Successful download\n",
            "Successful extraction\n"
          ]
        }
      ],
      "source": [
        "# Folder used for the downloaded dataset\n",
        "dataset_folder = os.path.join(os.getcwd(), \"Datasets\", \"Original\")\n",
        "\n",
        "# Check if folder exists, create otherwise\n",
        "if not os.path.exists(dataset_folder):\n",
        "    os.makedirs(dataset_folder)\n",
        "\n",
        "# Dataset folder name, url and path of the downloaded zip\n",
        "dataset_name = \"dependency_treebank\"\n",
        "dataset_url = \"https://raw.githubusercontent.com/nltk/nltk_data/gh-pages/packages/corpora/dependency_treebank.zip\"\n",
        "dataset_path = os.path.join(dataset_folder, \"dataset.zip\")\n",
        "\n",
        "# Download the dataset only if not present\n",
        "if not os.path.exists(dataset_path):\n",
        "    urllib.request.urlretrieve(dataset_url, dataset_path)\n",
        "    print(\"Successful download\")\n",
        "\n",
        "# Unzip dataset\n",
        "shutil.unpack_archive(filename=dataset_path, extract_dir=dataset_folder)\n",
        "print(\"Successful extraction\")"
      ]
    },
    {
      "attachments": {},
      "cell_type": "markdown",
      "metadata": {},
      "source": [
        "Quick data file inspection"
      ]
    },
    {
      "cell_type": "code",
      "execution_count": 6,
      "metadata": {
        "colab": {
          "base_uri": "https://localhost:8080/"
        },
        "execution": {
          "iopub.execute_input": "2022-11-30T14:36:39.727536Z",
          "iopub.status.busy": "2022-11-30T14:36:39.727015Z",
          "iopub.status.idle": "2022-11-30T14:36:39.737993Z",
          "shell.execute_reply": "2022-11-30T14:36:39.736488Z",
          "shell.execute_reply.started": "2022-11-30T14:36:39.727487Z"
        },
        "id": "c6LWCrEWurK-",
        "outputId": "7d019fa9-238b-4d1e-8752-08e8d4c2439a",
        "trusted": true
      },
      "outputs": [
        {
          "name": "stdout",
          "output_type": "stream",
          "text": [
            "Pierre\tNNP\t2\n",
            "Vinken\tNNP\t8\n",
            ",\t,\t2\n",
            "61\tCD\t5\n",
            "years\tNNS\t6\n",
            "old\tJJ\t2\n",
            ",\t,\t2\n",
            "will\tMD\t0\n",
            "join\tVB\t8\n",
            "the\tDT\t11\n",
            "board\tNN\t9\n",
            "as\tIN\t9\n",
            "a\tDT\t15\n",
            "nonexecutive\tJJ\t15\n",
            "director\tNN\t12\n",
            "Nov.\tNNP\t9\n",
            "29\tCD\t16\n",
            ".\t.\t8\n",
            "\n",
            "Mr.\tNNP\t2\n",
            "Vinken\tNNP\t3\n",
            "is\tVBZ\t0\n",
            "chairman\tNN\t3\n",
            "of\tIN\t4\n",
            "Elsevier\tNNP\t7\n",
            "N.V.\tNNP\t12\n",
            ",\t,\t12\n",
            "the\tDT\t12\n",
            "Dutch\tNNP\t12\n",
            "publishing\tVBG\t12\n",
            "group\tNN\t5\n",
            ".\t.\t3\n",
            "\n",
            "331\n"
          ]
        }
      ],
      "source": [
        "# Check a file of the dataset\n",
        "file_path = os.path.join(os.getcwd(), \"Datasets\", \"Original\", dataset_name, \"wsj_0001.dp\")\n",
        "\n",
        "# If file exists, read it\n",
        "if os.path.isfile(file_path):\n",
        "    with open(file_path, mode='r', encoding='utf-8') as text_file:\n",
        "        text = text_file.read()\n",
        "        print(text)\n",
        "        print(len(text))"
      ]
    },
    {
      "attachments": {},
      "cell_type": "markdown",
      "metadata": {
        "id": "838n29Hu2m7N"
      },
      "source": [
        "# Dataframe Creation"
      ]
    },
    {
      "cell_type": "code",
      "execution_count": 7,
      "metadata": {
        "colab": {
          "base_uri": "https://localhost:8080/"
        },
        "execution": {
          "iopub.execute_input": "2022-11-30T14:36:39.742192Z",
          "iopub.status.busy": "2022-11-30T14:36:39.739978Z",
          "iopub.status.idle": "2022-11-30T14:36:40.069043Z",
          "shell.execute_reply": "2022-11-30T14:36:40.067133Z",
          "shell.execute_reply.started": "2022-11-30T14:36:39.742130Z"
        },
        "id": "5oi7ITL52m7O",
        "outputId": "cc5f2c82-e199-450e-8258-f9b858604855",
        "trusted": true
      },
      "outputs": [
        {
          "name": "stdout",
          "output_type": "stream",
          "text": [
            "       file_id  sentence_id    token  tag\n",
            "0            1            0   Pierre  NNP\n",
            "1            1            0   Vinken  NNP\n",
            "2            1            0        ,    ,\n",
            "3            1            0       61   CD\n",
            "4            1            0    years  NNS\n",
            "...        ...          ...      ...  ...\n",
            "94079      199         3913  quarter   NN\n",
            "94080      199         3913       of   IN\n",
            "94081      199         3913     next   JJ\n",
            "94082      199         3913     year   NN\n",
            "94083      199         3913        .    .\n",
            "\n",
            "[94084 rows x 4 columns]\n"
          ]
        }
      ],
      "source": [
        "# Temp dictionary that will contain each row the dataset\n",
        "dataframe_rows = []\n",
        "dataset_folder = os.path.join(os.getcwd(), \"Datasets\", \"Original\", \"dependency_treebank\")\n",
        "\n",
        "# Indexes for the dataset\n",
        "ind = 1\n",
        "sentence = 0\n",
        "\n",
        "# For each file of our dataset iterate\n",
        "for file in sorted(os.listdir(dataset_folder)):\n",
        "    file_path = os.path.join(dataset_folder, file)\n",
        "\n",
        "    # Try to open the file\n",
        "    try:\n",
        "        if os.path.isfile(file_path):\n",
        "            with open(file_path, mode='r', encoding='utf-8') as text_file:\n",
        "\n",
        "                # Read each line of the file\n",
        "                line = text_file.readline()\n",
        "                while line:\n",
        "\n",
        "                    # If the line is empty, end of sentence\n",
        "                    if not line.strip():\n",
        "                        sentence += 1\n",
        "                    # Split the tokens and fill the dictionary\n",
        "                    else:\n",
        "                        split_values = line.split()\n",
        "                        token = split_values[0]\n",
        "                        tag = split_values[1]\n",
        "                        dataframe_row = {\n",
        "                            \"file_id\": ind,\n",
        "                            \"sentence_id\": sentence,\n",
        "                            \"token\": token,\n",
        "                            \"tag\": tag\n",
        "                        }\n",
        "                        dataframe_rows.append(dataframe_row)\n",
        "\n",
        "                    line = text_file.readline()\n",
        "    except Exception as e:\n",
        "                print('Failed to process %s. Reason: %s' % (file_path, e))\n",
        "                sys.exit(0)\n",
        "\n",
        "    # End of file, increment document and sentence index \n",
        "    ind = ind+1\n",
        "    sentence = sentence+1\n",
        "    \n",
        "\n",
        "# Create the dataframe\n",
        "dataframe = pd.DataFrame(dataframe_rows)\n",
        "print(dataframe)"
      ]
    },
    {
      "attachments": {},
      "cell_type": "markdown",
      "metadata": {
        "id": "SkqyByUl56qE"
      },
      "source": [
        "# Tag handling"
      ]
    },
    {
      "attachments": {},
      "cell_type": "markdown",
      "metadata": {},
      "source": [
        "Mapping tags to indexes"
      ]
    },
    {
      "cell_type": "code",
      "execution_count": 8,
      "metadata": {
        "colab": {
          "base_uri": "https://localhost:8080/"
        },
        "execution": {
          "iopub.execute_input": "2022-11-30T14:36:40.072336Z",
          "iopub.status.busy": "2022-11-30T14:36:40.070821Z",
          "iopub.status.idle": "2022-11-30T14:36:40.969455Z",
          "shell.execute_reply": "2022-11-30T14:36:40.968056Z",
          "shell.execute_reply.started": "2022-11-30T14:36:40.072279Z"
        },
        "id": "uPIjxDe756qE",
        "outputId": "f1c13dec-45ab-4064-d5c5-15c91b0516c1",
        "trusted": true
      },
      "outputs": [
        {
          "name": "stdout",
          "output_type": "stream",
          "text": [
            "{'NNP': 0, ',': 1, 'CD': 2, 'NNS': 3, 'JJ': 4, 'MD': 5, 'VB': 6, 'DT': 7, 'NN': 8, 'IN': 9, '.': 10, 'VBZ': 11, 'VBG': 12, 'CC': 13, 'VBD': 14, 'VBN': 15, 'RB': 16, 'TO': 17, 'PRP': 18, 'RBR': 19, 'WDT': 20, 'VBP': 21, 'RP': 22, 'PRP$': 23, 'JJS': 24, 'POS': 25, '``': 26, 'EX': 27, \"''\": 28, 'WP': 29, ':': 30, 'JJR': 31, 'WRB': 32, '$': 33, 'NNPS': 34, 'WP$': 35, '-LRB-': 36, '-RRB-': 37, 'PDT': 38, 'RBS': 39, 'FW': 40, 'UH': 41, 'SYM': 42, 'LS': 43, '#': 44}\n",
            "{0: 'NNP', 1: ',', 2: 'CD', 3: 'NNS', 4: 'JJ', 5: 'MD', 6: 'VB', 7: 'DT', 8: 'NN', 9: 'IN', 10: '.', 11: 'VBZ', 12: 'VBG', 13: 'CC', 14: 'VBD', 15: 'VBN', 16: 'RB', 17: 'TO', 18: 'PRP', 19: 'RBR', 20: 'WDT', 21: 'VBP', 22: 'RP', 23: 'PRP$', 24: 'JJS', 25: 'POS', 26: '``', 27: 'EX', 28: \"''\", 29: 'WP', 30: ':', 31: 'JJR', 32: 'WRB', 33: '$', 34: 'NNPS', 35: 'WP$', 36: '-LRB-', 37: '-RRB-', 38: 'PDT', 39: 'RBS', 40: 'FW', 41: 'UH', 42: 'SYM', 43: 'LS', 44: '#'}\n"
          ]
        }
      ],
      "source": [
        "# Get all the unique tags\n",
        "n_classes = dataframe[\"tag\"].unique().shape[0]\n",
        "\n",
        "# Create two dictionaries of tags\n",
        "# tags_dict -> {Tag: Id}\n",
        "# tags_dict_reversed -> {Id: Tag}\n",
        "tags_dict = {}\n",
        "tags_dict_reversed = {}\n",
        "for id in range(0, n_classes):\n",
        "    tags_dict_reversed[id] = dataframe[\"tag\"].unique()[id]\n",
        "    tags_dict[dataframe[\"tag\"].unique()[id]] = id\n",
        "\n",
        "print(tags_dict)\n",
        "print(tags_dict_reversed)"
      ]
    },
    {
      "attachments": {},
      "cell_type": "markdown",
      "metadata": {},
      "source": [
        "Setup for ignoring punctuation/symbols"
      ]
    },
    {
      "cell_type": "code",
      "execution_count": 10,
      "metadata": {
        "execution": {
          "iopub.execute_input": "2022-11-30T14:36:40.972587Z",
          "iopub.status.busy": "2022-11-30T14:36:40.971621Z",
          "iopub.status.idle": "2022-11-30T14:36:40.980131Z",
          "shell.execute_reply": "2022-11-30T14:36:40.978595Z",
          "shell.execute_reply.started": "2022-11-30T14:36:40.972531Z"
        },
        "id": "GotIG-Rv9GbX",
        "trusted": true
      },
      "outputs": [],
      "source": [
        "# Return the indexes of all specified tags\n",
        "def get_indeces(tags_dict: dict, ignore_list: list) -> list:\n",
        "    idxs = [tags_dict[key] for key in ignore_list]\n",
        "    return idxs"
      ]
    },
    {
      "cell_type": "code",
      "execution_count": 11,
      "metadata": {
        "colab": {
          "base_uri": "https://localhost:8080/"
        },
        "execution": {
          "iopub.execute_input": "2022-11-30T14:36:40.988591Z",
          "iopub.status.busy": "2022-11-30T14:36:40.987491Z",
          "iopub.status.idle": "2022-11-30T14:36:40.997503Z",
          "shell.execute_reply": "2022-11-30T14:36:40.995002Z",
          "shell.execute_reply.started": "2022-11-30T14:36:40.988536Z"
        },
        "id": "8_QDbgHK-dzB",
        "outputId": "7e967d76-165b-4cbd-8b93-d2855d36a5a2",
        "trusted": true
      },
      "outputs": [
        {
          "name": "stdout",
          "output_type": "stream",
          "text": [
            "classes ignored in evaluation: [',', '.', '``', \"''\", ':', '-LRB-', '-RRB-', 'SYM', '#', '$'], idx: [1, 10, 26, 28, 30, 36, 37, 42, 44, 33]\n",
            "classes evaluated: ['NNP', 'CD', 'NNS', 'JJ', 'MD', 'VB', 'DT', 'NN', 'IN', 'VBZ', 'VBG', 'CC', 'VBD', 'VBN', 'RB', 'TO', 'PRP', 'RBR', 'WDT', 'VBP', 'RP', 'PRP$', 'JJS', 'POS', 'EX', 'WP', 'JJR', 'WRB', 'NNPS', 'WP$', 'PDT', 'RBS', 'FW', 'UH', 'LS'], idx: [0, 2, 3, 4, 5, 6, 7, 8, 9, 11, 12, 13, 14, 15, 16, 17, 18, 19, 20, 21, 22, 23, 24, 25, 27, 29, 31, 32, 34, 35, 38, 39, 40, 41, 43]\n"
          ]
        }
      ],
      "source": [
        "# POS has tokens ' and 's, which contain punctuation (apostrophe), but we don't remove this tag from evaluation. we consider it normal words.\n",
        "# $, &, # are symbols \n",
        "ignore_list = [',','.','``',\"''\", ':', '-LRB-','-RRB-', 'SYM', '#', '$']\n",
        "ignore_idx = get_indeces(tags_dict, ignore_list)\n",
        "print(f\"classes ignored in evaluation: {ignore_list}, idx: {ignore_idx}\")\n",
        "target_names = list(tags_dict.keys())\n",
        "for tag in ignore_list:\n",
        "  target_names.remove(tag)\n",
        "target_idx = get_indeces(tags_dict, target_names)\n",
        "print(f\"classes evaluated: {target_names}, idx: {target_idx}\")"
      ]
    },
    {
      "cell_type": "code",
      "execution_count": 12,
      "metadata": {
        "colab": {
          "base_uri": "https://localhost:8080/"
        },
        "execution": {
          "iopub.execute_input": "2022-11-30T14:36:41.001595Z",
          "iopub.status.busy": "2022-11-30T14:36:40.999828Z",
          "iopub.status.idle": "2022-11-30T14:36:41.064806Z",
          "shell.execute_reply": "2022-11-30T14:36:41.062188Z",
          "shell.execute_reply.started": "2022-11-30T14:36:41.001534Z"
        },
        "id": "OgUeI5FB56qF",
        "outputId": "d736526f-a316-4ecc-8ed6-67771e9c0599",
        "trusted": true
      },
      "outputs": [
        {
          "name": "stdout",
          "output_type": "stream",
          "text": [
            "   file_id  sentence_id   token  tag  tag_idx\n",
            "0        1            0  Pierre  NNP        0\n",
            "1        1            0  Vinken  NNP        0\n",
            "2        1            0       ,    ,        1\n",
            "3        1            0      61   CD        2\n",
            "4        1            0   years  NNS        3\n"
          ]
        }
      ],
      "source": [
        "# adds the tag_idx column to the dataframe\n",
        "dataframe[\"tag_idx\"] = dataframe['tag'].map(lambda x: tags_dict[x])\n",
        "print(dataframe.head())"
      ]
    },
    {
      "attachments": {},
      "cell_type": "markdown",
      "metadata": {
        "id": "mKt2PqdAncNB"
      },
      "source": [
        "A look at tag distribution in the dataset"
      ]
    },
    {
      "cell_type": "code",
      "execution_count": 13,
      "metadata": {
        "colab": {
          "base_uri": "https://localhost:8080/",
          "height": 428
        },
        "execution": {
          "iopub.execute_input": "2022-11-30T14:36:41.068036Z",
          "iopub.status.busy": "2022-11-30T14:36:41.067255Z",
          "iopub.status.idle": "2022-11-30T14:36:41.869114Z",
          "shell.execute_reply": "2022-11-30T14:36:41.867829Z",
          "shell.execute_reply.started": "2022-11-30T14:36:41.067965Z"
        },
        "id": "d9w9WP5vnfGi",
        "outputId": "c7531c3f-f5fc-4b74-a925-918f35501b3c",
        "trusted": true
      },
      "outputs": [
        {
          "data": {
            "image/png": "[encoded data removed]",
            "text/plain": [
              "<Figure size 1584x504 with 1 Axes>"
            ]
          },
          "metadata": {
            "needs_background": "light"
          },
          "output_type": "display_data"
        }
      ],
      "source": [
        "bins = list(tags_dict.keys())\n",
        "his = dataframe[\"tag\"].hist(figsize=(22,7), align=\"left\", ec='black', legend=True, bins=bins, density=True)\n",
        "plt.show()"
      ]
    },
    {
      "attachments": {},
      "cell_type": "markdown",
      "metadata": {},
      "source": [
        "# Preprocessing"
      ]
    },
    {
      "attachments": {},
      "cell_type": "markdown",
      "metadata": {},
      "source": [
        "Since the GloVe dictionary is uncased, we decided to perform a simple operation of preprocessing converting to lowercase our training set."
      ]
    },
    {
      "cell_type": "code",
      "execution_count": 14,
      "metadata": {
        "execution": {
          "iopub.execute_input": "2022-11-30T14:36:41.872467Z",
          "iopub.status.busy": "2022-11-30T14:36:41.871578Z",
          "iopub.status.idle": "2022-11-30T14:36:41.902739Z",
          "shell.execute_reply": "2022-11-30T14:36:41.901450Z",
          "shell.execute_reply.started": "2022-11-30T14:36:41.872401Z"
        },
        "id": "LzeNUvtx56qG",
        "trusted": true
      },
      "outputs": [],
      "source": [
        "# lowercase tokens in the dataset\n",
        "dataframe['token'] = dataframe['token'].map(str.lower)"
      ]
    },
    {
      "attachments": {},
      "cell_type": "markdown",
      "metadata": {
        "id": "MnGAdRv07WBi"
      },
      "source": [
        "# Split the dataset in train, validation and test "
      ]
    },
    {
      "cell_type": "code",
      "execution_count": 15,
      "metadata": {
        "colab": {
          "base_uri": "https://localhost:8080/"
        },
        "execution": {
          "iopub.execute_input": "2022-11-30T14:36:41.905483Z",
          "iopub.status.busy": "2022-11-30T14:36:41.904487Z",
          "iopub.status.idle": "2022-11-30T14:36:41.931407Z",
          "shell.execute_reply": "2022-11-30T14:36:41.929974Z",
          "shell.execute_reply.started": "2022-11-30T14:36:41.905429Z"
        },
        "id": "deVC46r72m7P",
        "outputId": "311e80f0-49c0-4fa9-bac2-5643b4639768",
        "trusted": true
      },
      "outputs": [
        {
          "name": "stdout",
          "output_type": "stream",
          "text": [
            "       file_id  sentence_id      token  tag  tag_idx\n",
            "0            1            0     pierre  NNP        0\n",
            "1            1            0     vinken  NNP        0\n",
            "2            1            0          ,    ,        1\n",
            "3            1            0         61   CD        2\n",
            "4            1            0      years  NNS        3\n",
            "...        ...          ...        ...  ...      ...\n",
            "47351      100         1962  challenge   NN        8\n",
            "47352      100         1962         he  PRP       18\n",
            "47353      100         1962        has  VBZ       11\n",
            "47354      100         1962      faced  VBN       15\n",
            "47355      100         1962          .    .       10\n",
            "\n",
            "[47356 rows x 5 columns]\n"
          ]
        }
      ],
      "source": [
        "# Train set\n",
        "train = dataframe[dataframe[\"file_id\"] <= 100].copy()\n",
        "print(train)"
      ]
    },
    {
      "cell_type": "code",
      "execution_count": 16,
      "metadata": {
        "colab": {
          "base_uri": "https://localhost:8080/"
        },
        "execution": {
          "iopub.execute_input": "2022-11-30T14:36:41.934249Z",
          "iopub.status.busy": "2022-11-30T14:36:41.933469Z",
          "iopub.status.idle": "2022-11-30T14:36:41.957627Z",
          "shell.execute_reply": "2022-11-30T14:36:41.956330Z",
          "shell.execute_reply.started": "2022-11-30T14:36:41.934177Z"
        },
        "id": "Hbi0UWDu2m7P",
        "outputId": "7a9958d3-bf37-4e08-ac00-be66e4e13cf8",
        "trusted": true
      },
      "outputs": [
        {
          "name": "stdout",
          "output_type": "stream",
          "text": [
            "       file_id  sentence_id         token  tag  tag_idx\n",
            "47356      101         1963             a   DT        7\n",
            "47357      101         1963  house-senate  NNP        0\n",
            "47358      101         1963    conference   NN        8\n",
            "47359      101         1963      approved  VBD       14\n",
            "47360      101         1963         major   JJ        4\n",
            "...        ...          ...           ...  ...      ...\n",
            "78534      150         3261         terms  NNS        3\n",
            "78535      150         3261          were  VBD       14\n",
            "78536      150         3261           n't   RB       16\n",
            "78537      150         3261     disclosed  VBN       15\n",
            "78538      150         3261             .    .       10\n",
            "\n",
            "[31183 rows x 5 columns]\n"
          ]
        }
      ],
      "source": [
        "# Validation set\n",
        "val = dataframe[dataframe[\"file_id\"].between(101,150)].copy()\n",
        "print(val)"
      ]
    },
    {
      "cell_type": "code",
      "execution_count": 17,
      "metadata": {
        "colab": {
          "base_uri": "https://localhost:8080/"
        },
        "execution": {
          "iopub.execute_input": "2022-11-30T14:36:41.960192Z",
          "iopub.status.busy": "2022-11-30T14:36:41.959703Z",
          "iopub.status.idle": "2022-11-30T14:36:41.978789Z",
          "shell.execute_reply": "2022-11-30T14:36:41.977081Z",
          "shell.execute_reply.started": "2022-11-30T14:36:41.960135Z"
        },
        "id": "XAYbyQ9Z2m7Q",
        "outputId": "c59d281c-7f7d-4070-83c5-709a2adb4203",
        "trusted": true
      },
      "outputs": [
        {
          "name": "stdout",
          "output_type": "stream",
          "text": [
            "       file_id  sentence_id      token  tag  tag_idx\n",
            "78539      151         3262  intelogic  NNP        0\n",
            "78540      151         3262      trace  NNP        0\n",
            "78541      151         3262       inc.  NNP        0\n",
            "78542      151         3262          ,    ,        1\n",
            "78543      151         3262        san  NNP        0\n",
            "...        ...          ...        ...  ...      ...\n",
            "94079      199         3913    quarter   NN        8\n",
            "94080      199         3913         of   IN        9\n",
            "94081      199         3913       next   JJ        4\n",
            "94082      199         3913       year   NN        8\n",
            "94083      199         3913          .    .       10\n",
            "\n",
            "[15545 rows x 5 columns]\n"
          ]
        }
      ],
      "source": [
        "# Test set\n",
        "test = dataframe[dataframe[\"file_id\"] > 150].copy()\n",
        "print(test)"
      ]
    },
    {
      "cell_type": "markdown",
      "metadata": {
        "id": "OFW7l5nkf8Px"
      },
      "source": [
        "Quick glance at the normalized distribution of tags in the 3 sets"
      ]
    },
    {
      "cell_type": "code",
      "execution_count": 18,
      "metadata": {
        "colab": {
          "base_uri": "https://localhost:8080/",
          "height": 573
        },
        "execution": {
          "iopub.execute_input": "2022-11-30T14:36:41.981703Z",
          "iopub.status.busy": "2022-11-30T14:36:41.981160Z",
          "iopub.status.idle": "2022-11-30T14:36:43.460734Z",
          "shell.execute_reply": "2022-11-30T14:36:43.459442Z",
          "shell.execute_reply.started": "2022-11-30T14:36:41.981652Z"
        },
        "id": "DUrljNo5et6u",
        "outputId": "8d125adb-fd65-4e52-d561-4de71dd0ebe4",
        "trusted": true
      },
      "outputs": [
        {
          "name": "stderr",
          "output_type": "stream",
          "text": [
            "/usr/local/lib/python3.8/dist-packages/numpy/core/fromnumeric.py:3208: VisibleDeprecationWarning: Creating an ndarray from ragged nested sequences (which is a list-or-tuple of lists-or-tuples-or ndarrays with different lengths or shapes) is deprecated. If you meant to do this, you must specify 'dtype=object' when creating the ndarray.\n",
            "  return asarray(a).size\n",
            "/usr/local/lib/python3.8/dist-packages/matplotlib/cbook/__init__.py:1376: VisibleDeprecationWarning: Creating an ndarray from ragged nested sequences (which is a list-or-tuple of lists-or-tuples-or ndarrays with different lengths or shapes) is deprecated. If you meant to do this, you must specify 'dtype=object' when creating the ndarray.\n",
            "  X = np.atleast_1d(X.T if isinstance(X, np.ndarray) else np.asarray(X))\n"
          ]
        },
        {
          "data": {
            "image/png": "[encoded data removed]",
            "text/plain": [
              "<Figure size 1584x576 with 1 Axes>"
            ]
          },
          "metadata": {
            "needs_background": "light"
          },
          "output_type": "display_data"
        }
      ],
      "source": [
        "bins = list(tags_dict.keys())\n",
        "train_hist = train[\"tag\"]\n",
        "val_hist = val[\"tag\"]\n",
        "test_hist = test[\"tag\"]\n",
        "plt.figure(figsize = (22,8))\n",
        "plt.hist([train_hist, val_hist, test_hist], bins, ec='black', label=[\"train\", \"val\", \"test\"], \n",
        "         align = \"left\", density = True, color=[\"#D48D4D\", \"#31CE92\", \"#9A41D1\"])\n",
        "plt.legend()\n",
        "plt.show()"
      ]
    },
    {
      "cell_type": "markdown",
      "metadata": {
        "id": "nhEaUmml2m7Q"
      },
      "source": [
        "# GloVe embeddings\n"
      ]
    },
    {
      "cell_type": "code",
      "execution_count": 19,
      "metadata": {
        "colab": {
          "base_uri": "https://localhost:8080/"
        },
        "execution": {
          "iopub.execute_input": "2022-11-30T14:36:43.463418Z",
          "iopub.status.busy": "2022-11-30T14:36:43.462553Z",
          "iopub.status.idle": "2022-11-30T14:37:28.678625Z",
          "shell.execute_reply": "2022-11-30T14:37:28.677317Z",
          "shell.execute_reply.started": "2022-11-30T14:36:43.463364Z"
        },
        "id": "kiDJs8vf2m7R",
        "outputId": "b45b732a-802d-44f0-9a2e-bf0e3676e733",
        "trusted": true
      },
      "outputs": [
        {
          "name": "stdout",
          "output_type": "stream",
          "text": [
            "[==================================================] 100.0% 128.1/128.1MB downloaded\n",
            "[',', '.', 'of', 'to', 'and', 'in', 'a', '\"', \"'s\", 'for', '-', 'that', 'on', 'is', 'was', 'said', 'with', 'he', 'as', 'it', 'by', 'at', '(', ')', 'from', 'his', \"''\", '``', 'an']\n"
          ]
        }
      ],
      "source": [
        "# Define wanted embedding dimension\n",
        "embedding_dimension = 100\n",
        "\n",
        "# Download and load wikipedia GloVe embeddings\n",
        "download_path = \"glove-wiki-gigaword-{}\".format(embedding_dimension)\n",
        "emb_model = gloader.load(download_path)\n",
        "\n",
        "# print some of the word tokens\n",
        "print(emb_model.index_to_key[1:30])"
      ]
    },
    {
      "attachments": {},
      "cell_type": "markdown",
      "metadata": {
        "id": "RiIXwmmX2m7T"
      },
      "source": [
        "# Create our vocabulary\n",
        "\n",
        "Even though we could have worked on the whole dataset for getting the OOV and then split in Train, Test and Val, we decided to follow the rigorous procedure for handling oov in the splits. This is because in the future we may want to try something different with OOV embeddings."
      ]
    },
    {
      "cell_type": "code",
      "execution_count": 20,
      "metadata": {
        "colab": {
          "base_uri": "https://localhost:8080/"
        },
        "execution": {
          "iopub.execute_input": "2022-11-30T14:37:28.681401Z",
          "iopub.status.busy": "2022-11-30T14:37:28.680564Z",
          "iopub.status.idle": "2022-11-30T14:37:44.067523Z",
          "shell.execute_reply": "2022-11-30T14:37:44.065394Z",
          "shell.execute_reply.started": "2022-11-30T14:37:28.681346Z"
        },
        "id": "i8SZ94415D7s",
        "outputId": "269ba8b2-2fa7-45c1-8718-1ec3195cb594",
        "trusted": true
      },
      "outputs": [
        {
          "name": "stdout",
          "output_type": "stream",
          "text": [
            "Looking in indexes: https://pypi.org/simple, https://us-python.pkg.dev/colab-wheels/public/simple/\n",
            "Collecting ordered-set\n",
            "  Downloading ordered_set-4.1.0-py3-none-any.whl (7.6 kB)\n",
            "Installing collected packages: ordered-set\n",
            "Successfully installed ordered-set-4.1.0\n"
          ]
        }
      ],
      "source": [
        "!pip install ordered-set"
      ]
    },
    {
      "cell_type": "code",
      "execution_count": 21,
      "metadata": {
        "execution": {
          "iopub.execute_input": "2022-11-30T14:37:44.072548Z",
          "iopub.status.busy": "2022-11-30T14:37:44.071911Z",
          "iopub.status.idle": "2022-11-30T14:37:44.091073Z",
          "shell.execute_reply": "2022-11-30T14:37:44.088879Z",
          "shell.execute_reply.started": "2022-11-30T14:37:44.072487Z"
        },
        "id": "HcA8Ojmi2m7U",
        "trusted": true
      },
      "outputs": [],
      "source": [
        "from ordered_set import OrderedSet # to make our vocabulary indeces always the same (reproducibility)\n",
        "\n",
        "def check_OOV_terms(embedding_model: gensim.models.keyedvectors.KeyedVectors,\n",
        "                    dataframe: pd.DataFrame):\n",
        "    \"\"\"\n",
        "    Checks differences between pre-trained embedding model vocabulary\n",
        "    and dataset specific vocabulary in order to highlight out-of-vocabulary terms.\n",
        "\n",
        "    :param embedding_model: pre-trained word embedding model (gensim wrapper)\n",
        "    :param word_listing: dataset specific vocabulary (list)\n",
        "\n",
        "    :return\n",
        "        - list of OOV terms\n",
        "    \"\"\"\n",
        "\n",
        "    # Set of all the terms in the GloVe embedding\n",
        "    embedding_vocabulary = OrderedSet(embedding_model.index_to_key)\n",
        "\n",
        "    # OOV = gloveTerms - ourDataframeTerms \n",
        "    oov = OrderedSet(dataframe[\"token\"]).difference(embedding_vocabulary)\n",
        "    return list(oov)"
      ]
    },
    {
      "cell_type": "code",
      "execution_count": 22,
      "metadata": {
        "colab": {
          "base_uri": "https://localhost:8080/"
        },
        "execution": {
          "iopub.execute_input": "2022-11-30T14:37:44.095828Z",
          "iopub.status.busy": "2022-11-30T14:37:44.094737Z",
          "iopub.status.idle": "2022-11-30T14:37:44.107573Z",
          "shell.execute_reply": "2022-11-30T14:37:44.104411Z",
          "shell.execute_reply.started": "2022-11-30T14:37:44.095744Z"
        },
        "id": "uy5jnbKk2m7U",
        "outputId": "04c4e1ba-fd0b-408f-b23b-8ea4233775d4",
        "trusted": true
      },
      "outputs": [
        {
          "name": "stdout",
          "output_type": "stream",
          "text": [
            "Pre oov-adding vocabulary dimension: 400000\n"
          ]
        }
      ],
      "source": [
        "# Number of terms in the original vocabulary\n",
        "v1_last_index = len(emb_model.index_to_key)-1  # index where V1 ends\n",
        "print(\"Pre oov-adding vocabulary dimension:\", v1_last_index+1)"
      ]
    },
    {
      "cell_type": "code",
      "execution_count": 23,
      "metadata": {
        "colab": {
          "base_uri": "https://localhost:8080/"
        },
        "execution": {
          "iopub.execute_input": "2022-11-30T14:37:44.110983Z",
          "iopub.status.busy": "2022-11-30T14:37:44.109904Z",
          "iopub.status.idle": "2022-11-30T14:37:46.522484Z",
          "shell.execute_reply": "2022-11-30T14:37:46.521170Z",
          "shell.execute_reply.started": "2022-11-30T14:37:44.110909Z"
        },
        "id": "fH2rDczP2m7V",
        "outputId": "6089a2ec-114b-49b2-d3c5-74f92431fbd8",
        "trusted": true
      },
      "outputs": [
        {
          "name": "stdout",
          "output_type": "stream",
          "text": [
            "oov words in trainset: 359\n",
            "oov words in valset: 213\n",
            "oov words in testset: 161\n",
            "total: 733\n"
          ]
        }
      ],
      "source": [
        "# Get the OOV\n",
        "oov1 = check_OOV_terms(embedding_model=emb_model, dataframe=train)\n",
        "oov2 = check_OOV_terms(embedding_model=emb_model, dataframe=val)\n",
        "oov3 = check_OOV_terms(embedding_model=emb_model, dataframe=test)\n",
        "\n",
        "print(\"oov words in trainset:\", len(oov1))\n",
        "print(\"oov words in valset:\", len(oov2))\n",
        "print(\"oov words in testset:\", len(oov3))\n",
        "print(\"total:\", len(oov1)+len(oov2)+len(oov3))"
      ]
    },
    {
      "attachments": {},
      "cell_type": "markdown",
      "metadata": {},
      "source": [
        "Adding the OOV terms to the glove vocabulary with an embedding vector of 0s or of random normal values. (from the same distribution of the ones present in the vocabulary)"
      ]
    },
    {
      "cell_type": "code",
      "execution_count": 24,
      "metadata": {
        "colab": {
          "base_uri": "https://localhost:8080/"
        },
        "execution": {
          "iopub.execute_input": "2022-11-30T14:37:46.539631Z",
          "iopub.status.busy": "2022-11-30T14:37:46.538500Z",
          "iopub.status.idle": "2022-11-30T14:37:46.659625Z",
          "shell.execute_reply": "2022-11-30T14:37:46.658360Z",
          "shell.execute_reply.started": "2022-11-30T14:37:46.539578Z"
        },
        "id": "XsZ-cm6l2m7V",
        "outputId": "56aaf0ed-9409-4fea-e887-c9f453d7a58a",
        "trusted": true
      },
      "outputs": [
        {
          "name": "stdout",
          "output_type": "stream",
          "text": [
            "Using randomly generated embedding vectors from gaussian distribution (mean: 0.004, std. dev: 0.408)\n",
            "The vocabulary now contains 400677 tokens.\n"
          ]
        }
      ],
      "source": [
        "# bools for the embedding criteria\n",
        "use_zero_vectors = False # in this run we use random vectors\n",
        "use_random_vectors = ~use_zero_vectors\n",
        "if use_zero_vectors:\n",
        "  print('Using 0s as embedding vectors')\n",
        "  generate_emb_vector = lambda: np.zeros(embedding_dimension)\n",
        "elif use_random_vectors:\n",
        "  glove_emb_std = np.std(emb_model.vectors[:v1_last_index])\n",
        "  glove_emb_mean = np.mean(emb_model.vectors[:v1_last_index])\n",
        "  print(f'Using randomly generated embedding vectors from gaussian distribution (mean: {glove_emb_mean:.3f}, std. dev: {glove_emb_std:.3f})')\n",
        "  generate_emb_vector = lambda: np.random.normal(size=embedding_dimension, loc=glove_emb_mean, scale=glove_emb_std)\n",
        "\n",
        "# idx of <PAD>\n",
        "PAD_INDEX = v1_last_index + 1\n",
        "# embedding value of <PAD>\n",
        "pad_vector = generate_emb_vector()\n",
        "# adding the pad, train, val, test oov words in sequence\n",
        "emb_model.add_vectors(['<PAD>'] + oov1, [pad_vector] + [generate_emb_vector() for _ in range(0, len(oov1))])\n",
        "\n",
        "v2_last_index = len(emb_model.index_to_key)\n",
        "emb_model.add_vectors(oov2, [generate_emb_vector() for _ in range(0, len(oov2))])\n",
        "\n",
        "v3_last_index = len(emb_model.index_to_key)\n",
        "emb_model.add_vectors(oov3, [generate_emb_vector() for _ in range(0, len(oov3))])\n",
        "\n",
        "v4_last_index = len(emb_model.index_to_key)\n",
        "\n",
        "print(f'The vocabulary now contains {len(emb_model)} tokens.') \n",
        "# note that when duplicate oov words from one dataset are added to the KeyedVector the value is not updated. this is fine."
      ]
    },
    {
      "attachments": {},
      "cell_type": "markdown",
      "metadata": {
        "id": "ahz5Ujg92m7X"
      },
      "source": [
        "# Map tokens to integers\n",
        "\n",
        "All the terms in our dataframe will now be remapped to the corresponding glove embedding index in order to be later used as input to our models."
      ]
    },
    {
      "cell_type": "code",
      "execution_count": 25,
      "metadata": {
        "execution": {
          "iopub.execute_input": "2022-11-30T14:37:46.677821Z",
          "iopub.status.busy": "2022-11-30T14:37:46.675716Z",
          "iopub.status.idle": "2022-11-30T14:37:46.762557Z",
          "shell.execute_reply": "2022-11-30T14:37:46.761297Z",
          "shell.execute_reply.started": "2022-11-30T14:37:46.677755Z"
        },
        "id": "BINcyzGW2m7X",
        "trusted": true
      },
      "outputs": [],
      "source": [
        "# Create the token_idx column in our dataframe\n",
        "train[\"token_idx\"] = train[\"token\"].map(lambda x : emb_model.key_to_index[x])\n",
        "val[\"token_idx\"] = val[\"token\"].map(lambda x : emb_model.key_to_index[x]) \n",
        "test[\"token_idx\"] = test[\"token\"].map(lambda x : emb_model.key_to_index[x])"
      ]
    },
    {
      "attachments": {},
      "cell_type": "markdown",
      "metadata": {
        "id": "1mbQXjD_2m7Y"
      },
      "source": [
        "# Definition of the Models\n",
        "\n",
        "**Baseline**: Simple two layers architecture.\n",
        "\n",
        "- Bidirectional LSTM layer \n",
        "- Dense/Fully-Connected layer\n",
        "\n",
        "**GRU**: Simple GRU architecture.\n",
        "\n",
        "- Bidirectional GRU layer \n",
        "- Dense/Fully-Connected layer\n",
        "\n",
        "\n",
        "**Double LSTM**: Extend Baseline Model with another LSTM layer.\n",
        "\n",
        "- Bidirectional LSTM layer \n",
        "- Bidirectional LSTM layer \n",
        "- Dense/Fully-Connected layer\n",
        "\n",
        "\n",
        "**Double Dense layers**: Extend Baseline Model with another Dense layer.\n",
        "\n",
        "- Bidirectional LSTM layer \n",
        "- Dense/Fully-Connected layer\n",
        "- Dense/Fully-Connected layer"
      ]
    },
    {
      "attachments": {},
      "cell_type": "markdown",
      "metadata": {},
      "source": [
        "$\\alpha$ parameter setup. See the report for more details (or [stackexchange post](https://stats.stackexchange.com/questions/181/how-to-choose-the-number-of-hidden-layers-and-nodes-in-a-feedforward-neural-netw/136542#136542))"
      ]
    },
    {
      "cell_type": "code",
      "execution_count": 26,
      "metadata": {
        "execution": {
          "iopub.execute_input": "2022-11-30T14:37:46.765245Z",
          "iopub.status.busy": "2022-11-30T14:37:46.764720Z",
          "iopub.status.idle": "2022-11-30T14:37:46.775057Z",
          "shell.execute_reply": "2022-11-30T14:37:46.773381Z",
          "shell.execute_reply.started": "2022-11-30T14:37:46.765179Z"
        },
        "id": "WZqwSFV0et6x",
        "trusted": true
      },
      "outputs": [],
      "source": [
        "def adapt_power_of_two(n):\n",
        "    \"\"\"Returns the closest power of 2 to the given input value.\"\"\"\n",
        "    if n<0:\n",
        "      raise ValueError('This parameter must be positive')\n",
        "        \n",
        "    maximum = np.ceil(math.log(n,2))\n",
        "    max_pow_of_two = 2**maximum\n",
        "    minimum = np.floor(math.log(n,2)) \n",
        "    min_pow_of_two = 2**minimum\n",
        " \n",
        "    if (max_pow_of_two - n) <= (n - min_pow_of_two ):\n",
        "        return int(max_pow_of_two)\n",
        "    else:\n",
        "        return int(min_pow_of_two)\n",
        "    "
      ]
    },
    {
      "attachments": {},
      "cell_type": "markdown",
      "metadata": {
        "id": "kTiWaKWEiiNH"
      },
      "source": [
        "Function which computes the number of hidden layers."
      ]
    },
    {
      "cell_type": "code",
      "execution_count": 27,
      "metadata": {
        "execution": {
          "iopub.execute_input": "2022-11-30T14:37:46.787825Z",
          "iopub.status.busy": "2022-11-30T14:37:46.786954Z",
          "iopub.status.idle": "2022-11-30T14:37:46.798119Z",
          "shell.execute_reply": "2022-11-30T14:37:46.795512Z",
          "shell.execute_reply.started": "2022-11-30T14:37:46.787782Z"
        },
        "id": "USpW9d1bet6x",
        "trusted": true
      },
      "outputs": [],
      "source": [
        "# Number of hidden layers\n",
        "def compute_n_hidden_layers(n_samples, n_input, n_output, alpha):\n",
        "    n_hidden_layers = n_samples // (alpha * (n_input+n_output))\n",
        "    return n_hidden_layers"
      ]
    },
    {
      "attachments": {},
      "cell_type": "markdown",
      "metadata": {
        "id": "-jh1KPQzit9M"
      },
      "source": [
        "## Base Bidirectional LSTM Model\n"
      ]
    },
    {
      "cell_type": "code",
      "execution_count": 28,
      "metadata": {
        "execution": {
          "iopub.execute_input": "2022-11-30T14:37:46.802400Z",
          "iopub.status.busy": "2022-11-30T14:37:46.800793Z",
          "iopub.status.idle": "2022-11-30T14:37:46.814828Z",
          "shell.execute_reply": "2022-11-30T14:37:46.813618Z",
          "shell.execute_reply.started": "2022-11-30T14:37:46.802333Z"
        },
        "id": "t8alSBNc2m7Y",
        "trusted": true
      },
      "outputs": [],
      "source": [
        "class BiLSTM_Model(nn.Module):\n",
        "    def __init__(self, \n",
        "                 emb_model, \n",
        "                 input_dim,\n",
        "                 embedding_dim, \n",
        "                 hidden_dim, \n",
        "                 output_dim, \n",
        "                 n_layers_lstm,\n",
        "                 bidirectional,\n",
        "                 padding_index):\n",
        "        \n",
        "        super().__init__()\n",
        "        \n",
        "        self.embedding = nn.Embedding(input_dim, embedding_dim, padding_idx = padding_index).requires_grad_(False)\n",
        "        \n",
        "        self.embedding.weights = nn.Parameter(torch.from_numpy(emb_model.vectors))\n",
        "        \n",
        "        self.lstm = nn.LSTM(embedding_dim, \n",
        "                            hidden_dim // 2, \n",
        "                            num_layers = n_layers_lstm, \n",
        "                            bidirectional = bidirectional,\n",
        "                            batch_first=True)\n",
        "        \n",
        "        self.fc = nn.Linear(hidden_dim, output_dim) \n",
        "\n",
        "        self.softmax = nn.Softmax(dim = 1)\n",
        "        \n",
        "    def forward(self, text):\n",
        "        \n",
        "        embedded = self.embedding(text)\n",
        "        \n",
        "        outputs, (hidden, cell) = self.lstm(embedded)\n",
        "\n",
        "        outputs = self.fc(outputs)\n",
        "\n",
        "        predictions = outputs\n",
        "                \n",
        "        return predictions"
      ]
    },
    {
      "cell_type": "markdown",
      "metadata": {
        "id": "2ce9IKa3iy8U"
      },
      "source": [
        "## Bidirectional LSTM Model with two FC layers\n"
      ]
    },
    {
      "cell_type": "code",
      "execution_count": 29,
      "metadata": {
        "execution": {
          "iopub.execute_input": "2022-11-30T14:37:46.817553Z",
          "iopub.status.busy": "2022-11-30T14:37:46.816655Z",
          "iopub.status.idle": "2022-11-30T14:37:46.831920Z",
          "shell.execute_reply": "2022-11-30T14:37:46.830788Z",
          "shell.execute_reply.started": "2022-11-30T14:37:46.817499Z"
        },
        "id": "AqdeJaReet6y",
        "trusted": true
      },
      "outputs": [],
      "source": [
        "class BiLSTM_Model_multiple_fc(nn.Module):\n",
        "    def __init__(self, \n",
        "                 emb_model, \n",
        "                 input_dim,\n",
        "                 embedding_dim, \n",
        "                 hidden_dim1,\n",
        "                 hidden_dim2,\n",
        "                 output_dim, \n",
        "                 n_layers_lstm,\n",
        "                 bidirectional,\n",
        "                 padding_index):\n",
        "        \n",
        "        super().__init__()\n",
        "        \n",
        "        self.embedding = nn.Embedding(input_dim, embedding_dim, padding_idx = padding_index).requires_grad_(False)\n",
        "        \n",
        "        self.embedding.weights = nn.Parameter(torch.from_numpy(emb_model.vectors))\n",
        "        \n",
        "        self.lstm = nn.LSTM(embedding_dim, \n",
        "                            hidden_dim1 // 2, \n",
        "                            num_layers = n_layers_lstm, \n",
        "                            bidirectional = bidirectional,\n",
        "                            batch_first=True)\n",
        "        \n",
        "        self.fc1 = nn.Linear(hidden_dim1, hidden_dim2)\n",
        "        self.fc2 = nn.Linear(hidden_dim2, output_dim)\n",
        "        \n",
        "        self.relu = nn.ReLU()\n",
        "        self.softmax = nn.Softmax(dim = 1)\n",
        "        \n",
        "    def forward(self, text):\n",
        "        embedded = self.embedding(text)\n",
        "        outputs, (hidden, cell) = self.lstm(embedded)\n",
        "        outputs = self.fc1(outputs)\n",
        "        outputs = self.relu(outputs)\n",
        "        outputs = self.fc2(outputs)\n",
        "        predictions = outputs\n",
        "                \n",
        "        return predictions"
      ]
    },
    {
      "cell_type": "markdown",
      "metadata": {
        "id": "K4CrLoIuCsWW"
      },
      "source": [
        "## Bidirectional GRU Model\n"
      ]
    },
    {
      "cell_type": "code",
      "execution_count": 30,
      "metadata": {
        "execution": {
          "iopub.execute_input": "2022-11-30T14:37:46.836284Z",
          "iopub.status.busy": "2022-11-30T14:37:46.833787Z",
          "iopub.status.idle": "2022-11-30T14:37:46.850916Z",
          "shell.execute_reply": "2022-11-30T14:37:46.849352Z",
          "shell.execute_reply.started": "2022-11-30T14:37:46.836201Z"
        },
        "id": "PwuN_ggRCjtX",
        "trusted": true
      },
      "outputs": [],
      "source": [
        "class GRU_Model(nn.Module):\n",
        "    def __init__(self, \n",
        "                 emb_model, \n",
        "                 input_dim,\n",
        "                 embedding_dim, \n",
        "                 hidden_dim, \n",
        "                 output_dim, \n",
        "                 n_layers,\n",
        "                 bidirectional,\n",
        "                 padding_index):\n",
        "        \n",
        "        super().__init__()\n",
        "        \n",
        "        self.embedding = nn.Embedding(input_dim, embedding_dim, padding_idx = padding_index).requires_grad_(False)\n",
        "        \n",
        "        self.embedding.weights = nn.Parameter(torch.from_numpy(emb_model.vectors))\n",
        "        \n",
        "        self.gru = nn.GRU(embedding_dim, \n",
        "                            hidden_dim // 2, \n",
        "                            num_layers = n_layers, \n",
        "                            bidirectional = bidirectional,\n",
        "                            batch_first=True)\n",
        "        \n",
        "        self.fc = nn.Linear(hidden_dim, output_dim) \n",
        "        self.softmax = nn.Softmax(dim = 1)\n",
        "\n",
        "    def forward(self, text):\n",
        "        \n",
        "        embedded = self.embedding(text)\n",
        "        \n",
        "        outputs, (hidden) = self.gru(embedded)\n",
        "        \n",
        "        outputs = self.fc(outputs)\n",
        "\n",
        "        predictions = outputs      \n",
        "        return predictions"
      ]
    },
    {
      "attachments": {},
      "cell_type": "markdown",
      "metadata": {
        "id": "qfwmWoDa2m7a"
      },
      "source": [
        "# Training and Evaluation definitions"
      ]
    },
    {
      "cell_type": "code",
      "execution_count": 31,
      "metadata": {
        "colab": {
          "base_uri": "https://localhost:8080/"
        },
        "execution": {
          "iopub.execute_input": "2022-11-30T14:37:47.808694Z",
          "iopub.status.busy": "2022-11-30T14:37:47.807039Z",
          "iopub.status.idle": "2022-11-30T14:37:47.885413Z",
          "shell.execute_reply": "2022-11-30T14:37:47.883529Z",
          "shell.execute_reply.started": "2022-11-30T14:37:47.808635Z"
        },
        "id": "jwaffxC6STTf",
        "outputId": "be01b92c-d006-4f9c-af19-785d74952b9e",
        "trusted": true
      },
      "outputs": [
        {
          "name": "stdout",
          "output_type": "stream",
          "text": [
            "cuda\n"
          ]
        }
      ],
      "source": [
        "# Loss function\n",
        "criterion = nn.CrossEntropyLoss(ignore_index = PAD_INDEX)\n",
        "\n",
        "# Check for GPU\n",
        "device = torch.device('cuda' if torch.cuda.is_available() else 'cpu')\n",
        "print(device)"
      ]
    },
    {
      "attachments": {},
      "cell_type": "markdown",
      "metadata": {},
      "source": [
        "Validation metric"
      ]
    },
    {
      "cell_type": "code",
      "execution_count": 32,
      "metadata": {
        "execution": {
          "iopub.execute_input": "2022-11-30T14:37:52.945211Z",
          "iopub.status.busy": "2022-11-30T14:37:52.942606Z",
          "iopub.status.idle": "2022-11-30T14:37:52.955046Z",
          "shell.execute_reply": "2022-11-30T14:37:52.953560Z",
          "shell.execute_reply.started": "2022-11-30T14:37:52.945135Z"
        },
        "id": "b-g8OyNwhBNS",
        "trusted": true
      },
      "outputs": [],
      "source": [
        "def categorical_accuracy(preds, y, tag_pad_idx):\n",
        "    \"\"\"\n",
        "    Returns accuracy per batch, i.e. if you get 8/10 right, this returns 0.8, NOT 8\n",
        "    \"\"\"\n",
        "    max_preds = preds.argmax(dim = 1, keepdim = True) # get the index of the max probability\n",
        "    non_pad_elements = (y != tag_pad_idx).nonzero()\n",
        "    correct = max_preds[non_pad_elements].squeeze(1).eq(y[non_pad_elements])\n",
        "    return correct.sum() / y[non_pad_elements].shape[0]"
      ]
    },
    {
      "attachments": {},
      "cell_type": "markdown",
      "metadata": {},
      "source": [
        "Simple training loop"
      ]
    },
    {
      "cell_type": "code",
      "execution_count": 33,
      "metadata": {
        "execution": {
          "iopub.execute_input": "2022-11-30T14:37:52.958837Z",
          "iopub.status.busy": "2022-11-30T14:37:52.957594Z",
          "iopub.status.idle": "2022-11-30T14:37:52.970301Z",
          "shell.execute_reply": "2022-11-30T14:37:52.968898Z",
          "shell.execute_reply.started": "2022-11-30T14:37:52.958778Z"
        },
        "id": "306CjF2Q56qR",
        "trusted": true
      },
      "outputs": [],
      "source": [
        "def train_model(model, iterator, optimizer, criterion, tag_pad_idx):\n",
        "    \n",
        "    epoch_loss = 0\n",
        "    epoch_acc = 0\n",
        "    \n",
        "    model.train()\n",
        "    \n",
        "    for batch in iterator:\n",
        "        text = batch[0]\n",
        "        tags = batch[1]\n",
        "  \n",
        "        optimizer.zero_grad()\n",
        "                \n",
        "        predictions = model(text)\n",
        "        \n",
        "        predictions = predictions.view(-1, predictions.shape[-1])\n",
        "        tags = tags.view(-1)\n",
        "        \n",
        "        loss = criterion(predictions, tags)\n",
        "                \n",
        "        acc = categorical_accuracy(predictions, tags, tag_pad_idx)\n",
        "        loss.backward()\n",
        "        \n",
        "        optimizer.step()\n",
        "        \n",
        "        epoch_loss += loss.item()\n",
        "        epoch_acc += acc.item()\n",
        "        \n",
        "    return epoch_loss / len(iterator), epoch_acc / len(iterator)"
      ]
    },
    {
      "attachments": {},
      "cell_type": "markdown",
      "metadata": {},
      "source": [
        "Evaluation loop"
      ]
    },
    {
      "cell_type": "code",
      "execution_count": 34,
      "metadata": {
        "execution": {
          "iopub.execute_input": "2022-11-30T14:37:52.972848Z",
          "iopub.status.busy": "2022-11-30T14:37:52.972242Z",
          "iopub.status.idle": "2022-11-30T14:37:52.988471Z",
          "shell.execute_reply": "2022-11-30T14:37:52.986647Z",
          "shell.execute_reply.started": "2022-11-30T14:37:52.972798Z"
        },
        "id": "Ragxlirw56qS",
        "trusted": true
      },
      "outputs": [],
      "source": [
        "def eval_model(model, iterator, criterion, tag_pad_idx):\n",
        "    \n",
        "    epoch_loss = 0\n",
        "    epoch_acc = 0\n",
        "    \n",
        "    model.eval()\n",
        "    \n",
        "    with torch.no_grad():\n",
        "    \n",
        "        for batch in iterator:\n",
        "            text = batch[0]\n",
        "            tags = batch[1]\n",
        "            \n",
        "            predictions = model(text)\n",
        "            \n",
        "            predictions = predictions.view(-1, predictions.shape[-1])\n",
        "            tags = tags.view(-1)\n",
        "            \n",
        "            loss = criterion(predictions, tags)\n",
        "            \n",
        "            acc = categorical_accuracy(predictions, tags, tag_pad_idx)\n",
        "\n",
        "            epoch_loss += loss.item()\n",
        "            epoch_acc += acc.item()\n",
        "        \n",
        "    return epoch_loss / len(iterator), epoch_acc / len(iterator)"
      ]
    },
    {
      "cell_type": "markdown",
      "metadata": {
        "id": "LmKM7_D6r0Tr"
      },
      "source": [
        "Early stopper for our training"
      ]
    },
    {
      "cell_type": "code",
      "execution_count": null,
      "metadata": {
        "execution": {
          "iopub.execute_input": "2022-11-30T14:37:53.065275Z",
          "iopub.status.busy": "2022-11-30T14:37:53.063385Z",
          "iopub.status.idle": "2022-11-30T14:37:53.076605Z",
          "shell.execute_reply": "2022-11-30T14:37:53.075039Z",
          "shell.execute_reply.started": "2022-11-30T14:37:53.065184Z"
        },
        "id": "L-Kr4uU1rs5h",
        "trusted": true
      },
      "outputs": [],
      "source": [
        "# from https://stackoverflow.com/questions/71998978/early-stopping-in-pytorch\n",
        "class EarlyStopper:\n",
        "    def __init__(self, patience=1, min_delta=0):\n",
        "        self.patience = patience\n",
        "        self.min_delta = min_delta\n",
        "        self.counter = 0\n",
        "        self.min_validation_loss = np.inf\n",
        "\n",
        "    def early_stop(self, validation_loss):\n",
        "        # If the val loss is less than our previous \"best\" loss, let the model improve\n",
        "        if validation_loss < self.min_validation_loss:\n",
        "            self.min_validation_loss = validation_loss\n",
        "            self.counter = 0\n",
        "        # If the val loss is higher than our previous \"best\" loss, increase patience\n",
        "        elif validation_loss > (self.min_validation_loss + self.min_delta):\n",
        "            self.counter += 1\n",
        "\n",
        "            # If max patience is reached, stop training\n",
        "            if self.counter >= self.patience:\n",
        "                return True\n",
        "        return False"
      ]
    },
    {
      "attachments": {},
      "cell_type": "markdown",
      "metadata": {},
      "source": [
        "Function to get predictions from any model, on any dataset"
      ]
    },
    {
      "cell_type": "code",
      "execution_count": 35,
      "metadata": {
        "id": "gbMB0qR-cmhb"
      },
      "outputs": [],
      "source": [
        "def get_ys(model, iterator, tag_pad_idx, ignore_idx=[], target_names=target_names, target_idx=target_idx):\n",
        "    \"\"\"Computes predictions for the sequences given, returns the filtered predictions and targets, removing padding and ignored indexes (e.g. punctuation).\"\"\"\n",
        "    model.eval()\n",
        "    with torch.no_grad():\n",
        "        # to have all predictions at once\n",
        "      epoch_predictions = torch.Tensor().to(device)\n",
        "      epoch_tags = torch.LongTensor().to(device)\n",
        "      for batch in iterator:\n",
        "        text = batch[0]\n",
        "        tags = batch[1]\n",
        "        \n",
        "        predictions = model(text)\n",
        "        # concatenate values\n",
        "        epoch_predictions = torch.cat([epoch_predictions, predictions.view(-1, predictions.shape[-1])],dim=0)\n",
        "        epoch_tags = torch.cat([epoch_tags, tags.view(-1)],dim=0)\n",
        "    # indeces of punctuation and padding (ignored)\n",
        "    pads_or_punct = torch.IntTensor([tag_pad_idx]+ignore_idx).to(device)\n",
        "    # mask to filter tags\n",
        "    non_pad_or_punct_elements = torch.isin(elements=epoch_tags,test_elements=pads_or_punct,invert=True)\n",
        "    # argmax to get the model's most confident tag\n",
        "    epoch_predictions = torch.argmax(epoch_predictions, dim=1)\n",
        "\n",
        "    # apply mask to remove punctuation\n",
        "    filtered_predictions = epoch_predictions[non_pad_or_punct_elements]\n",
        "    filtered_tags = epoch_tags[non_pad_or_punct_elements]\n",
        "    \n",
        "    filtered_predictions = filtered_predictions.cpu()\n",
        "    filtered_tags = filtered_tags.cpu()\n",
        "\n",
        "    return filtered_predictions, filtered_tags"
      ]
    },
    {
      "attachments": {},
      "cell_type": "markdown",
      "metadata": {},
      "source": [
        "## Definitions for the analysis of results "
      ]
    },
    {
      "cell_type": "code",
      "execution_count": 36,
      "metadata": {
        "execution": {
          "iopub.execute_input": "2022-11-30T16:55:05.867185Z",
          "iopub.status.busy": "2022-11-30T16:55:05.866745Z",
          "iopub.status.idle": "2022-11-30T16:55:05.881519Z",
          "shell.execute_reply": "2022-11-30T16:55:05.880103Z",
          "shell.execute_reply.started": "2022-11-30T16:55:05.867148Z"
        },
        "id": "XlOfk79zHnnT",
        "trusted": true
      },
      "outputs": [],
      "source": [
        "def get_classification_report(y_pred, y_true, target_names=target_names, target_idx=target_idx):\n",
        "    \"\"\"Given the predictions and targets, returns the sklearn classification report.\n",
        "    target_names: the class names to display.\n",
        "    target_idx: the class indeces.\"\"\"\n",
        "\n",
        "    report = classification_report(y_true=y_true, y_pred=y_pred, target_names=target_names, labels=target_idx, zero_division=0)\n",
        "    return report"
      ]
    },
    {
      "cell_type": "code",
      "execution_count": 37,
      "metadata": {
        "id": "WCz5eR2Xd_nG"
      },
      "outputs": [],
      "source": [
        "def plot_confusion_matrix(y_pred, y_true, target_names=target_names, target_idx=target_idx, normalize='true', title=None):\n",
        "    \"\"\"Given the predictions and targets, plots the confusion matrix using sklearn.\n",
        "    target_names: the class names to display.\n",
        "    target_idx: the class indeces.\n",
        "    normalize: 'true', 'pred', 'all' or None. Whether to normalize values by true class, by predictions, by total samples, or not normalize at all.  \"\"\"\n",
        "    \n",
        "    f = plt.figure(figsize=(10,10))\n",
        "    ax = f.add_subplot(111)\n",
        "    ax.set_title(title)\n",
        "    ConfusionMatrixDisplay.from_predictions(y_true=y_true, y_pred=y_pred, normalize=normalize, labels = target_idx, display_labels=target_names, \n",
        "                                            ax=ax, include_values=False, xticks_rotation='vertical')\n",
        "    plt.plot()"
      ]
    },
    {
      "attachments": {},
      "cell_type": "markdown",
      "metadata": {},
      "source": [
        "## Definitions for dataloader and padding"
      ]
    },
    {
      "cell_type": "code",
      "execution_count": 38,
      "metadata": {
        "execution": {
          "iopub.execute_input": "2022-11-30T14:37:53.010033Z",
          "iopub.status.busy": "2022-11-30T14:37:53.008804Z",
          "iopub.status.idle": "2022-11-30T14:37:53.027947Z",
          "shell.execute_reply": "2022-11-30T14:37:53.026341Z",
          "shell.execute_reply.started": "2022-11-30T14:37:53.009962Z"
        },
        "id": "YJAbTDIx56qT",
        "trusted": true
      },
      "outputs": [],
      "source": [
        "# wrapper class for dataframe. give it to the dataloader\n",
        "from torch.utils.data import Dataset\n",
        "\n",
        "class PandasDataset(Dataset):\n",
        "    def __init__(self, dataframe):\n",
        "\n",
        "        self.dataframe = dataframe\n",
        "\n",
        "        # Get the list of the sentence_id\n",
        "        sentence_values = pd.DataFrame(pd.unique(dataframe[\"sentence_id\"]))[0]\n",
        "\n",
        "        # Create the serie of all the sentences\n",
        "        sentence = sentence_values.map(lambda n : self.__make_sentence__(dataframe, n, 'token_idx')).to_frame()\n",
        "\n",
        "        # Also add the same sentence but formed with the tags of each word\n",
        "        sentence_tags = sentence_values.map(lambda n : self.__make_sentence__(dataframe, n, 'tag_idx')).to_frame()\n",
        "        sentence['tags'] = sentence_tags[0]\n",
        "        sentence = sentence.rename(columns={0: 'tokens'})\n",
        "        self.sentence = sentence\n",
        "        \n",
        "    def __make_sentence__(self, dataframe, n, column):\n",
        "        \"\"\"Given the dataframe and the index of the sentence, create an array composed\n",
        "         by the sequence of indexes of terms of that specific sentence\n",
        "         :param dataframe: pandas dataframe\n",
        "         :param n: index of the sentence\n",
        "         :return - array of the sentence formed by the term indexes\"\"\"\n",
        "        l = dataframe.index[dataframe['sentence_id'] == n]\n",
        "        return np.array(dataframe.loc[l, column])\n",
        "\n",
        "    def __len__(self):\n",
        "        return len(self.sentence)\n",
        "\n",
        "    def __getitem__(self, index): \n",
        "        return torch.tensor(self.sentence['tokens'][index]), torch.tensor((self.sentence['tags'][index]))"
      ]
    },
    {
      "cell_type": "markdown",
      "metadata": {
        "id": "S5iTUrPnlyFL"
      },
      "source": [
        "Function used to insert padding to batches in order to have all the batches of the same size"
      ]
    },
    {
      "cell_type": "code",
      "execution_count": 39,
      "metadata": {
        "execution": {
          "iopub.execute_input": "2022-11-30T14:37:53.031757Z",
          "iopub.status.busy": "2022-11-30T14:37:53.030658Z",
          "iopub.status.idle": "2022-11-30T14:37:53.045966Z",
          "shell.execute_reply": "2022-11-30T14:37:53.044085Z",
          "shell.execute_reply.started": "2022-11-30T14:37:53.031700Z"
        },
        "id": "rGRARSFi56qT",
        "trusted": true
      },
      "outputs": [],
      "source": [
        "def pad_batch(batch, emb_model):\n",
        "    tokens, tags = zip(*batch)\n",
        "\n",
        "    # Get the length of the \"longest\" sentence in our batch\n",
        "    collapse_left_pad = max(len(elem) for elem in tokens) \n",
        "    temp_tensor_length = 0\n",
        "    \n",
        "    batch_tokens = []\n",
        "    batch_tags = []\n",
        "\n",
        "    for tensor in range(len(tokens)):\n",
        "        # Get how much padding the current sentence needs\n",
        "        temp_tensor_length = collapse_left_pad - len(tokens[tensor])\n",
        "\n",
        "        # Pad both the word sentence and the tag sentence\n",
        "        token_pad = torch.nn.functional.pad(tokens[tensor], pad =(0, temp_tensor_length), mode='constant', value=emb_model.key_to_index['<PAD>'])\n",
        "        tag_pad = torch.nn.functional.pad(tags[tensor], pad=(0, temp_tensor_length) , mode='constant', value=emb_model.key_to_index['<PAD>'])\n",
        "        \n",
        "        batch_tokens.append(token_pad)\n",
        "        batch_tags.append(tag_pad)\n",
        "\n",
        "    # Correctly recreate the batch\n",
        "    token_tensor = torch.stack(batch_tokens)\n",
        "    tag_tensor = torch.stack(batch_tags)\n",
        "    \n",
        "    return token_tensor, tag_tensor"
      ]
    },
    {
      "attachments": {},
      "cell_type": "markdown",
      "metadata": {
        "id": "SjKDojuIqWtK"
      },
      "source": [
        "# Plotting Definitions"
      ]
    },
    {
      "cell_type": "code",
      "execution_count": 42,
      "metadata": {
        "execution": {
          "iopub.execute_input": "2022-11-30T14:39:16.873968Z",
          "iopub.status.busy": "2022-11-30T14:39:16.870246Z",
          "iopub.status.idle": "2022-11-30T14:39:16.887825Z",
          "shell.execute_reply": "2022-11-30T14:39:16.886382Z",
          "shell.execute_reply.started": "2022-11-30T14:39:16.873899Z"
        },
        "id": "_ID4V5S9et63",
        "trusted": true
      },
      "outputs": [],
      "source": [
        "def plot_measure(model_dicts, measure):\n",
        "    \"\"\"This function plots measure values from the models dictionary data structure. Measure is taken as a string. \"\"\"\n",
        "    plt.figure(figsize=(10,5))\n",
        "    plt.grid()\n",
        "    plt.gca().xaxis.set_major_locator(mticker.MultipleLocator(1))\n",
        "    plt.xlabel('Epoch')\n",
        "    plt.ylabel(measure)\n",
        "    ax = plt.subplot(111)\n",
        "\n",
        "    for model_dict in iter(model_dicts.values()):\n",
        "        plt.plot(model_dict[\"best_dataframe\"][measure], label=model_dict[\"name\"])\n",
        "        \n",
        "    plt.legend()\n",
        "    ax.legend(loc='center left', bbox_to_anchor=(1, 0.5))\n",
        "    plt.show()"
      ]
    },
    {
      "cell_type": "markdown",
      "metadata": {
        "id": "xL-YVZ8ZI8AJ"
      },
      "source": [
        "# Hyper-parameter tuning"
      ]
    },
    {
      "cell_type": "code",
      "execution_count": 44,
      "metadata": {
        "execution": {
          "iopub.execute_input": "2022-11-30T14:40:35.228450Z",
          "iopub.status.busy": "2022-11-30T14:40:35.227964Z",
          "iopub.status.idle": "2022-11-30T14:40:36.018360Z",
          "shell.execute_reply": "2022-11-30T14:40:36.016970Z",
          "shell.execute_reply.started": "2022-11-30T14:40:35.228411Z"
        },
        "id": "_bCAh2295D8E",
        "trusted": true
      },
      "outputs": [],
      "source": [
        "from ray import tune\n",
        "from ray.tune import CLIReporter, JupyterNotebookReporter\n",
        "import ray\n",
        "from ray.air import session"
      ]
    },
    {
      "attachments": {},
      "cell_type": "markdown",
      "metadata": {},
      "source": [
        "Definition of directories for saving weights and training history"
      ]
    },
    {
      "cell_type": "code",
      "execution_count": 45,
      "metadata": {
        "id": "_wKlEtr3SWbw"
      },
      "outputs": [],
      "source": [
        "best_weights_dir = \"./best_weights\"\n",
        "best_dataframes_dir = \"./best_dataframes\"\n",
        "if not os.path.isdir(best_weights_dir):  \n",
        "    # if the best weights directory is \n",
        "    # not present then create it.\n",
        "    os.makedirs(best_weights_dir)\n",
        "if not os.path.isdir(best_dataframes_dir):  \n",
        "    os.makedirs(best_dataframes_dir)"
      ]
    },
    {
      "attachments": {},
      "cell_type": "markdown",
      "metadata": {},
      "source": [
        "Definition of the Model Factory class"
      ]
    },
    {
      "cell_type": "code",
      "execution_count": 46,
      "metadata": {
        "id": "qAzrF2A0T2tp"
      },
      "outputs": [],
      "source": [
        "class Model_factory():\n",
        "  \"\"\"This class intantiates any of the four models with the right parameters, also given the ray tune config dictionary.\"\"\"\n",
        "  def __init__(self, emb_model, num_classes):\n",
        "    self.emb_model = emb_model\n",
        "    self.INPUT_DIM = len(self.emb_model) # Input dimension = length of our dictionary\n",
        "    self.OUTPUT_DIM = num_classes\n",
        "    self.EMBEDDING_DIM = self.emb_model[0].shape[0]\n",
        "    self.PADDING_IDX = self.emb_model.key_to_index[\"<PAD>\"]\n",
        "    self.HIDDEN_DIM = None # will be specified at runtime\n",
        "\n",
        "    self.constructor_dict = {\"baseline\": BiLSTM_Model,\n",
        "                             \"gru\": GRU_Model,\n",
        "                             \"additional_biLSTM_layer\": BiLSTM_Model,\n",
        "                             \"additional_fully_connected_layer\": BiLSTM_Model_multiple_fc}\n",
        "\n",
        "    self.args_dict = {\"emb_model\" : self.emb_model,\n",
        "                            \"input_dim\" : self.INPUT_DIM,\n",
        "                            \"embedding_dim\" : self.EMBEDDING_DIM, \n",
        "                            \"hidden_dim\" : self.HIDDEN_DIM, \n",
        "                            \"output_dim\" : self.OUTPUT_DIM,\n",
        "                            \"n_layers_lstm\" : 1,\n",
        "                            \"bidirectional\" : True, \n",
        "                            \"padding_index\" : self.PADDING_IDX}\n",
        "\n",
        "  def get_model(self, model_name: str, config: dict):\n",
        "    model_args = self.args_dict.copy()\n",
        "    hidden_dim = adapt_power_of_two(compute_n_hidden_layers(train.shape[0], self.EMBEDDING_DIM, self.OUTPUT_DIM, config[\"alpha\"]))\n",
        "\n",
        "    # change parameter dictionary based on model architecture\n",
        "    if model_name == \"baseline\":\n",
        "      model_args[\"hidden_dim\"] = hidden_dim\n",
        "    elif model_name == \"gru\":\n",
        "      model_args[\"hidden_dim\"] = hidden_dim\n",
        "      model_args.pop(\"n_layers_lstm\", None)\n",
        "      model_args[\"n_layers\"] = 1\n",
        "    elif model_name == \"additional_biLSTM_layer\":\n",
        "      model_args[\"hidden_dim\"] = hidden_dim\n",
        "      model_args[\"n_layers_lstm\"] = 2\n",
        "    elif model_name == \"additional_fully_connected_layer\":\n",
        "      model_args[\"hidden_dim1\"] = hidden_dim\n",
        "      model_args[\"hidden_dim2\"] = hidden_dim\n",
        "      model_args.pop(\"hidden_dim\", None)\n",
        "      \n",
        "    # builds the model using its constructor and arguments\n",
        "    return self.constructor_dict[model_name](**model_args)"
      ]
    },
    {
      "attachments": {},
      "cell_type": "markdown",
      "metadata": {},
      "source": [
        "Definition of the main training/validation loop with the Ray Tune API specifications"
      ]
    },
    {
      "cell_type": "code",
      "execution_count": 47,
      "metadata": {
        "execution": {
          "iopub.execute_input": "2022-11-30T15:24:20.520314Z",
          "iopub.status.busy": "2022-11-30T15:24:20.519553Z",
          "iopub.status.idle": "2022-11-30T15:24:20.570668Z",
          "shell.execute_reply": "2022-11-30T15:24:20.568342Z",
          "shell.execute_reply.started": "2022-11-30T15:24:20.520258Z"
        },
        "id": "acmhBa7U5D8F",
        "trusted": true
      },
      "outputs": [],
      "source": [
        "# hyperparameter tuning on the four models\n",
        "def train_and_eval_model_with_raytune(config, model_factory: Model_factory, model_name: str, n_epochs: int, torch_train, torch_val, criterion, tag_pad_idx, emb_model, verbose=0,\n",
        "                                      checkpoint_dir=None): \n",
        "\n",
        "    # Create model\n",
        "    model = model_factory.get_model(model_name, config)\n",
        "    # add it to device\n",
        "    model.to(device)\n",
        "    optimizer = optim.Adam(model.parameters(), lr=config[\"lr\"])\n",
        "    # load from checkpoint dir\n",
        "    if checkpoint_dir:\n",
        "        print(\"LOADING FROM\", checkpoint_dir)\n",
        "        model_state, optimizer_state = torch.load(os.path.join(checkpoint_dir, \"checkpoint\"))\n",
        "        model.load_state_dict(model_state)\n",
        "        optimizer.load_state_dict(optimizer_state)\n",
        "\n",
        "    # Correctly initialize our data for training and validation\n",
        "    train_dataloader = DataLoader(torch_train, batch_size=config['batch_size'],shuffle=False, collate_fn=lambda x: tuple(x_.to(device) for x_ in pad_batch(x,emb_model)))\n",
        "    val_dataloader = DataLoader(torch_val, batch_size=config['batch_size'], shuffle=False, collate_fn=lambda x: tuple(x_.to(device) for x_ in pad_batch(x,emb_model)))\n",
        "\n",
        "    # Define early stopper\n",
        "    early_stopper = EarlyStopper(patience=3, min_delta=config[\"min_delta\"])\n",
        "\n",
        "    # Train for n_epochs\n",
        "    for epoch in range(n_epochs):\n",
        "      \n",
        "        # Perform training\n",
        "        train_loss, train_acc = train_model(model=model, iterator=train_dataloader, optimizer=optimizer, criterion=criterion, tag_pad_idx=tag_pad_idx)\n",
        "\n",
        "        # Perform validation\n",
        "        val_loss, val_acc = eval_model(model, val_dataloader, criterion, tag_pad_idx=PAD_INDEX)\n",
        "\n",
        "        if verbose == 1:\n",
        "          print(f'\\tTrain Loss: {train_loss:.3f} | Train Acc: {train_acc*100:.2f}%')\n",
        "          print(f'\\t Val. Loss: {val_loss:.3f} |  Val. Acc: {val_acc*100:.2f}%')\n",
        "          print(\"\\n\")\n",
        "\n",
        "        with tune.checkpoint_dir(epoch) as checkpoint_dir:\n",
        "            path = os.path.join(checkpoint_dir, \"checkpoint\")\n",
        "            torch.save((model.state_dict(), optimizer.state_dict()), path)\n",
        "\n",
        "        # Log loss and accuracy\n",
        "        tune.report(val_loss=val_loss, val_accuracy=val_acc, train_loss=train_loss, train_accuracy=train_acc)    \n",
        "\n",
        "        if early_stopper.early_stop(val_loss):  \n",
        "            print(\"Early stop\")           \n",
        "            break\n",
        "    \n",
        "    print(\"Finished Training\")"
      ]
    },
    {
      "attachments": {},
      "cell_type": "markdown",
      "metadata": {},
      "source": [
        "Definition of the four models dictionary"
      ]
    },
    {
      "cell_type": "code",
      "execution_count": 48,
      "metadata": {
        "execution": {
          "iopub.execute_input": "2022-11-30T14:42:20.663999Z",
          "iopub.status.busy": "2022-11-30T14:42:20.662294Z",
          "iopub.status.idle": "2022-11-30T14:42:20.679695Z",
          "shell.execute_reply": "2022-11-30T14:42:20.676995Z",
          "shell.execute_reply.started": "2022-11-30T14:42:20.663931Z"
        },
        "id": "TONzn0r-coej",
        "trusted": true
      },
      "outputs": [],
      "source": [
        "dict_baseline = {\"name\": \"baseline\"}\n",
        "\n",
        "dict_gru = {\"name\": \"gru\"}\n",
        "\n",
        "dict_additional_bilstm = {\"name\": \"additional_biLSTM_layer\"}\n",
        "\n",
        "dict_additional_fc = {\"name\": \"additional_fully_connected_layer\"}\n",
        "\n",
        "model_dicts = {\"baseline\" : dict_baseline, \n",
        "               \"gru\": dict_gru,\n",
        "               \"additional_biLSTM_layer\": dict_additional_bilstm,\n",
        "               \"additional_fully_connected_layer\": dict_additional_fc}"
      ]
    },
    {
      "cell_type": "code",
      "execution_count": 49,
      "metadata": {
        "id": "ymbz7PVLjmu-"
      },
      "outputs": [],
      "source": [
        "factory = Model_factory(emb_model, n_classes)"
      ]
    },
    {
      "cell_type": "code",
      "execution_count": 50,
      "metadata": {
        "colab": {
          "base_uri": "https://localhost:8080/",
          "height": 78
        },
        "id": "dq3wpa8Hh_VX",
        "outputId": "60324364-ec57-4fab-b309-7521965cc578"
      },
      "outputs": [
        {
          "name": "stderr",
          "output_type": "stream",
          "text": [
            "2022-12-11 14:42:42,322\tINFO worker.py:1528 -- Started a local Ray instance.\n"
          ]
        },
        {
          "data": {
            "text/html": [
              "<div>\n",
              "    <div style=\"margin-left: 50px;display: flex;flex-direction: row;align-items: center\">\n",
              "        <h3 style=\"color: var(--jp-ui-font-color0)\">Ray</h3>\n",
              "        <svg version=\"1.1\" id=\"ray\" width=\"3em\" viewBox=\"0 0 144.5 144.6\" style=\"margin-left: 3em;margin-right: 3em\">\n",
              "            <g id=\"layer-1\">\n",
              "                <path fill=\"#00a2e9\" class=\"st0\" d=\"M97.3,77.2c-3.8-1.1-6.2,0.9-8.3,5.1c-3.5,6.8-9.9,9.9-17.4,9.6S58,88.1,54.8,81.2c-1.4-3-3-4-6.3-4.1\n",
              "                    c-5.6-0.1-9.9,0.1-13.1,6.4c-3.8,7.6-13.6,10.2-21.8,7.6C5.2,88.4-0.4,80.5,0,71.7c0.1-8.4,5.7-15.8,13.8-18.2\n",
              "                    c8.4-2.6,17.5,0.7,22.3,8c1.3,1.9,1.3,5.2,3.6,5.6c3.9,0.6,8,0.2,12,0.2c1.8,0,1.9-1.6,2.4-2.8c3.5-7.8,9.7-11.8,18-11.9\n",
              "                    c8.2-0.1,14.4,3.9,17.8,11.4c1.3,2.8,2.9,3.6,5.7,3.3c1-0.1,2,0.1,3,0c2.8-0.5,6.4,1.7,8.1-2.7s-2.3-5.5-4.1-7.5\n",
              "                    c-5.1-5.7-10.9-10.8-16.1-16.3C84,38,81.9,37.1,78,38.3C66.7,42,56.2,35.7,53,24.1C50.3,14,57.3,2.8,67.7,0.5\n",
              "                    C78.4-2,89,4.7,91.5,15.3c0.1,0.3,0.1,0.5,0.2,0.8c0.7,3.4,0.7,6.9-0.8,9.8c-1.7,3.2-0.8,5,1.5,7.2c6.7,6.5,13.3,13,19.8,19.7\n",
              "                    c1.8,1.8,3,2.1,5.5,1.2c9.1-3.4,17.9-0.6,23.4,7c4.8,6.9,4.6,16.1-0.4,22.9c-5.4,7.2-14.2,9.9-23.1,6.5c-2.3-0.9-3.5-0.6-5.1,1.1\n",
              "                    c-6.7,6.9-13.6,13.7-20.5,20.4c-1.8,1.8-2.5,3.2-1.4,5.9c3.5,8.7,0.3,18.6-7.7,23.6c-7.9,5-18.2,3.8-24.8-2.9\n",
              "                    c-6.4-6.4-7.4-16.2-2.5-24.3c4.9-7.8,14.5-11,23.1-7.8c3,1.1,4.7,0.5,6.9-1.7C91.7,98.4,98,92.3,104.2,86c1.6-1.6,4.1-2.7,2.6-6.2\n",
              "                    c-1.4-3.3-3.8-2.5-6.2-2.6C99.8,77.2,98.9,77.2,97.3,77.2z M72.1,29.7c5.5,0.1,9.9-4.3,10-9.8c0-0.1,0-0.2,0-0.3\n",
              "                    C81.8,14,77,9.8,71.5,10.2c-5,0.3-9,4.2-9.3,9.2c-0.2,5.5,4,10.1,9.5,10.3C71.8,29.7,72,29.7,72.1,29.7z M72.3,62.3\n",
              "                    c-5.4-0.1-9.9,4.2-10.1,9.7c0,0.2,0,0.3,0,0.5c0.2,5.4,4.5,9.7,9.9,10c5.1,0.1,9.9-4.7,10.1-9.8c0.2-5.5-4-10-9.5-10.3\n",
              "                    C72.6,62.3,72.4,62.3,72.3,62.3z M115,72.5c0.1,5.4,4.5,9.7,9.8,9.9c5.6-0.2,10-4.8,10-10.4c-0.2-5.4-4.6-9.7-10-9.7\n",
              "                    c-5.3-0.1-9.8,4.2-9.9,9.5C115,72.1,115,72.3,115,72.5z M19.5,62.3c-5.4,0.1-9.8,4.4-10,9.8c-0.1,5.1,5.2,10.4,10.2,10.3\n",
              "                    c5.6-0.2,10-4.9,9.8-10.5c-0.1-5.4-4.5-9.7-9.9-9.6C19.6,62.3,19.5,62.3,19.5,62.3z M71.8,134.6c5.9,0.2,10.3-3.9,10.4-9.6\n",
              "                    c0.5-5.5-3.6-10.4-9.1-10.8c-5.5-0.5-10.4,3.6-10.8,9.1c0,0.5,0,0.9,0,1.4c-0.2,5.3,4,9.8,9.3,10\n",
              "                    C71.6,134.6,71.7,134.6,71.8,134.6z\"/>\n",
              "            </g>\n",
              "        </svg>\n",
              "        <table>\n",
              "            <tr>\n",
              "                <td style=\"text-align: left\"><b>Python version:</b></td>\n",
              "                <td style=\"text-align: left\"><b>3.8.16</b></td>\n",
              "            </tr>\n",
              "            <tr>\n",
              "                <td style=\"text-align: left\"><b>Ray version:</b></td>\n",
              "                <td style=\"text-align: left\"><b> 2.1.0</b></td>\n",
              "            </tr>\n",
              "            \n",
              "        </table>\n",
              "    </div>\n",
              "</div>\n"
            ],
            "text/plain": [
              "RayContext(dashboard_url='', python_version='3.8.16', ray_version='2.1.0', ray_commit='be49bde7ee4f6adb3f8710aee0665c27f9f0bb62', address_info={'node_ip_address': '172.28.0.12', 'raylet_ip_address': '172.28.0.12', 'redis_address': None, 'object_store_address': '/tmp/ray/session_2022-12-11_14-42-40_408036_75/sockets/plasma_store', 'raylet_socket_name': '/tmp/ray/session_2022-12-11_14-42-40_408036_75/sockets/raylet', 'webui_url': '', 'session_dir': '/tmp/ray/session_2022-12-11_14-42-40_408036_75', 'metrics_export_port': 61894, 'gcs_address': '172.28.0.12:60824', 'address': '172.28.0.12:60824', 'dashboard_agent_listen_port': 52365, 'node_id': '2568bfdd6265be37606b9083dff68603323608f07c1c700c56daf5c4'})"
            ]
          },
          "execution_count": 50,
          "metadata": {},
          "output_type": "execute_result"
        }
      ],
      "source": [
        "# silence warnings\n",
        "ray.init(log_to_driver=False)"
      ]
    },
    {
      "attachments": {},
      "cell_type": "markdown",
      "metadata": {},
      "source": [
        "Run with hyper-parameter tuning"
      ]
    },
    {
      "cell_type": "code",
      "execution_count": 51,
      "metadata": {
        "colab": {
          "base_uri": "https://localhost:8080/",
          "height": 1000
        },
        "execution": {
          "iopub.execute_input": "2022-11-30T15:24:47.964929Z",
          "iopub.status.busy": "2022-11-30T15:24:47.963580Z",
          "iopub.status.idle": "2022-11-30T15:29:19.800192Z",
          "shell.execute_reply": "2022-11-30T15:29:19.798972Z",
          "shell.execute_reply.started": "2022-11-30T15:24:47.964863Z"
        },
        "id": "FaLbaAYcy0NY",
        "outputId": "7dfc5898-7a65-43e2-90b9-70e2e557be23",
        "trusted": true
      },
      "outputs": [
        {
          "data": {
            "text/html": [
              "<div class=\"tuneStatus\">\n",
              "  <div style=\"display: flex;flex-direction: row\">\n",
              "    <div style=\"display: flex;flex-direction: column;\">\n",
              "      <h3>Tune Status</h3>\n",
              "      <table>\n",
              "<tbody>\n",
              "<tr><td>Current time:</td><td>2022-12-11 15:34:20</td></tr>\n",
              "<tr><td>Running for: </td><td>00:11:32.28        </td></tr>\n",
              "<tr><td>Memory:      </td><td>7.8/12.7 GiB       </td></tr>\n",
              "</tbody>\n",
              "</table>\n",
              "    </div>\n",
              "    <div class=\"vDivider\"></div>\n",
              "    <div class=\"systemInfo\">\n",
              "      <h3>System Info</h3>\n",
              "      Using FIFO scheduling algorithm.<br>Resources requested: 0/2 CPUs, 0/1 GPUs, 0.0/7.19 GiB heap, 0.0/3.6 GiB objects (0.0/1.0 accelerator_type:T4)\n",
              "    </div>\n",
              "    \n",
              "  </div>\n",
              "  <div class=\"hDivider\"></div>\n",
              "  <div class=\"trialStatus\">\n",
              "    <h3>Trial Status</h3>\n",
              "    <table>\n",
              "<thead>\n",
              "<tr><th>Trial name                                   </th><th>status    </th><th>loc             </th><th style=\"text-align: right;\">  alpha</th><th style=\"text-align: right;\">  batch_size</th><th style=\"text-align: right;\">   lr</th><th style=\"text-align: right;\">  val_loss</th><th style=\"text-align: right;\">  val_accuracy</th><th style=\"text-align: right;\">  train_loss</th><th style=\"text-align: right;\">  train_accuracy</th></tr>\n",
              "</thead>\n",
              "<tbody>\n",
              "<tr><td>train_and_eval_model_with_raytune_ab431_00012</td><td>TERMINATED</td><td>172.28.0.12:4232</td><td style=\"text-align: right;\">      1</td><td style=\"text-align: right;\">          16</td><td style=\"text-align: right;\">0.003</td><td style=\"text-align: right;\">  0.831043</td><td style=\"text-align: right;\">      0.831452</td><td style=\"text-align: right;\">   0.066148 </td><td style=\"text-align: right;\">        0.979544</td></tr>\n",
              "<tr><td>train_and_eval_model_with_raytune_ab431_00000</td><td>TERMINATED</td><td>172.28.0.12:3592</td><td style=\"text-align: right;\">      1</td><td style=\"text-align: right;\">           1</td><td style=\"text-align: right;\">0.001</td><td style=\"text-align: right;\">  1.00164 </td><td style=\"text-align: right;\">      0.81452 </td><td style=\"text-align: right;\">   0.0594029</td><td style=\"text-align: right;\">        0.981954</td></tr>\n",
              "<tr><td>train_and_eval_model_with_raytune_ab431_00015</td><td>TERMINATED</td><td>172.28.0.12:4378</td><td style=\"text-align: right;\">      1</td><td style=\"text-align: right;\">         128</td><td style=\"text-align: right;\">0.003</td><td style=\"text-align: right;\">  0.766813</td><td style=\"text-align: right;\">      0.813681</td><td style=\"text-align: right;\">   0.111196 </td><td style=\"text-align: right;\">        0.972826</td></tr>\n",
              "<tr><td>train_and_eval_model_with_raytune_ab431_00016</td><td>TERMINATED</td><td>172.28.0.12:4431</td><td style=\"text-align: right;\">      2</td><td style=\"text-align: right;\">         128</td><td style=\"text-align: right;\">0.003</td><td style=\"text-align: right;\">  0.716014</td><td style=\"text-align: right;\">      0.812131</td><td style=\"text-align: right;\">   0.188958 </td><td style=\"text-align: right;\">        0.950689</td></tr>\n",
              "<tr><td>train_and_eval_model_with_raytune_ab431_00013</td><td>TERMINATED</td><td>172.28.0.12:4278</td><td style=\"text-align: right;\">      2</td><td style=\"text-align: right;\">          16</td><td style=\"text-align: right;\">0.003</td><td style=\"text-align: right;\">  0.802883</td><td style=\"text-align: right;\">      0.811467</td><td style=\"text-align: right;\">   0.180508 </td><td style=\"text-align: right;\">        0.946245</td></tr>\n",
              "<tr><td>train_and_eval_model_with_raytune_ab431_00004</td><td>TERMINATED</td><td>172.28.0.12:3816</td><td style=\"text-align: right;\">      2</td><td style=\"text-align: right;\">          16</td><td style=\"text-align: right;\">0.001</td><td style=\"text-align: right;\">  0.761722</td><td style=\"text-align: right;\">      0.810601</td><td style=\"text-align: right;\">   0.17112  </td><td style=\"text-align: right;\">        0.955153</td></tr>\n",
              "<tr><td>train_and_eval_model_with_raytune_ab431_00003</td><td>TERMINATED</td><td>172.28.0.12:3765</td><td style=\"text-align: right;\">      1</td><td style=\"text-align: right;\">          16</td><td style=\"text-align: right;\">0.001</td><td style=\"text-align: right;\">  0.78905 </td><td style=\"text-align: right;\">      0.809296</td><td style=\"text-align: right;\">   0.122866 </td><td style=\"text-align: right;\">        0.967201</td></tr>\n",
              "<tr><td>train_and_eval_model_with_raytune_ab431_00010</td><td>TERMINATED</td><td>172.28.0.12:4139</td><td style=\"text-align: right;\">      2</td><td style=\"text-align: right;\">           1</td><td style=\"text-align: right;\">0.003</td><td style=\"text-align: right;\">  0.953373</td><td style=\"text-align: right;\">      0.803398</td><td style=\"text-align: right;\">   0.168487 </td><td style=\"text-align: right;\">        0.946445</td></tr>\n",
              "<tr><td>train_and_eval_model_with_raytune_ab431_00001</td><td>TERMINATED</td><td>172.28.0.12:3670</td><td style=\"text-align: right;\">      2</td><td style=\"text-align: right;\">           1</td><td style=\"text-align: right;\">0.001</td><td style=\"text-align: right;\">  0.921896</td><td style=\"text-align: right;\">      0.803148</td><td style=\"text-align: right;\">   0.121568 </td><td style=\"text-align: right;\">        0.966884</td></tr>\n",
              "<tr><td>train_and_eval_model_with_raytune_ab431_00009</td><td>TERMINATED</td><td>172.28.0.12:4094</td><td style=\"text-align: right;\">      1</td><td style=\"text-align: right;\">           1</td><td style=\"text-align: right;\">0.003</td><td style=\"text-align: right;\">  0.918217</td><td style=\"text-align: right;\">      0.802671</td><td style=\"text-align: right;\">   0.190788 </td><td style=\"text-align: right;\">        0.94003 </td></tr>\n",
              "<tr><td>train_and_eval_model_with_raytune_ab431_00006</td><td>TERMINATED</td><td>172.28.0.12:3925</td><td style=\"text-align: right;\">      1</td><td style=\"text-align: right;\">         128</td><td style=\"text-align: right;\">0.001</td><td style=\"text-align: right;\">  0.726689</td><td style=\"text-align: right;\">      0.781057</td><td style=\"text-align: right;\">   0.480126 </td><td style=\"text-align: right;\">        0.864675</td></tr>\n",
              "<tr><td>train_and_eval_model_with_raytune_ab431_00014</td><td>TERMINATED</td><td>172.28.0.12:4326</td><td style=\"text-align: right;\">     10</td><td style=\"text-align: right;\">          16</td><td style=\"text-align: right;\">0.003</td><td style=\"text-align: right;\">  0.870077</td><td style=\"text-align: right;\">      0.77023 </td><td style=\"text-align: right;\">   0.463617 </td><td style=\"text-align: right;\">        0.861334</td></tr>\n",
              "<tr><td>train_and_eval_model_with_raytune_ab431_00002</td><td>TERMINATED</td><td>172.28.0.12:3716</td><td style=\"text-align: right;\">     10</td><td style=\"text-align: right;\">           1</td><td style=\"text-align: right;\">0.001</td><td style=\"text-align: right;\">  0.926621</td><td style=\"text-align: right;\">      0.76225 </td><td style=\"text-align: right;\">   0.438729 </td><td style=\"text-align: right;\">        0.872408</td></tr>\n",
              "<tr><td>train_and_eval_model_with_raytune_ab431_00011</td><td>TERMINATED</td><td>172.28.0.12:4184</td><td style=\"text-align: right;\">     10</td><td style=\"text-align: right;\">           1</td><td style=\"text-align: right;\">0.003</td><td style=\"text-align: right;\">  0.922546</td><td style=\"text-align: right;\">      0.756369</td><td style=\"text-align: right;\">   0.453427 </td><td style=\"text-align: right;\">        0.86279 </td></tr>\n",
              "<tr><td>train_and_eval_model_with_raytune_ab431_00005</td><td>TERMINATED</td><td>172.28.0.12:3869</td><td style=\"text-align: right;\">     10</td><td style=\"text-align: right;\">          16</td><td style=\"text-align: right;\">0.001</td><td style=\"text-align: right;\">  0.890305</td><td style=\"text-align: right;\">      0.74424 </td><td style=\"text-align: right;\">   0.653776 </td><td style=\"text-align: right;\">        0.81006 </td></tr>\n",
              "<tr><td>train_and_eval_model_with_raytune_ab431_00007</td><td>TERMINATED</td><td>172.28.0.12:3978</td><td style=\"text-align: right;\">      2</td><td style=\"text-align: right;\">         128</td><td style=\"text-align: right;\">0.001</td><td style=\"text-align: right;\">  0.882136</td><td style=\"text-align: right;\">      0.735495</td><td style=\"text-align: right;\">   0.71601  </td><td style=\"text-align: right;\">        0.789674</td></tr>\n",
              "<tr><td>train_and_eval_model_with_raytune_ab431_00017</td><td>TERMINATED</td><td>172.28.0.12:4487</td><td style=\"text-align: right;\">     10</td><td style=\"text-align: right;\">         128</td><td style=\"text-align: right;\">0.003</td><td style=\"text-align: right;\">  0.962412</td><td style=\"text-align: right;\">      0.713832</td><td style=\"text-align: right;\">   0.798512 </td><td style=\"text-align: right;\">        0.763527</td></tr>\n",
              "<tr><td>train_and_eval_model_with_raytune_ab431_00008</td><td>TERMINATED</td><td>172.28.0.12:4036</td><td style=\"text-align: right;\">     10</td><td style=\"text-align: right;\">         128</td><td style=\"text-align: right;\">0.001</td><td style=\"text-align: right;\">  1.51486 </td><td style=\"text-align: right;\">      0.563699</td><td style=\"text-align: right;\">   1.46982  </td><td style=\"text-align: right;\">        0.582032</td></tr>\n",
              "</tbody>\n",
              "</table>\n",
              "  </div>\n",
              "</div>\n",
              "<style>\n",
              ".tuneStatus {\n",
              "  color: var(--jp-ui-font-color1);\n",
              "}\n",
              ".tuneStatus .systemInfo {\n",
              "  display: flex;\n",
              "  flex-direction: column;\n",
              "}\n",
              ".tuneStatus td {\n",
              "  white-space: nowrap;\n",
              "}\n",
              ".tuneStatus .trialStatus {\n",
              "  display: flex;\n",
              "  flex-direction: column;\n",
              "}\n",
              ".tuneStatus h3 {\n",
              "  font-weight: bold;\n",
              "}\n",
              ".tuneStatus .hDivider {\n",
              "  border-bottom-width: var(--jp-border-width);\n",
              "  border-bottom-color: var(--jp-border-color0);\n",
              "  border-bottom-style: solid;\n",
              "}\n",
              ".tuneStatus .vDivider {\n",
              "  border-left-width: var(--jp-border-width);\n",
              "  border-left-color: var(--jp-border-color0);\n",
              "  border-left-style: solid;\n",
              "  margin: 0.5em 1em 0.5em 1em;\n",
              "}\n",
              "</style>\n"
            ],
            "text/plain": [
              "<IPython.core.display.HTML object>"
            ]
          },
          "metadata": {},
          "output_type": "display_data"
        },
        {
          "name": "stderr",
          "output_type": "stream",
          "text": [
            "/usr/local/lib/python3.8/dist-packages/ray/tune/trainable/function_trainable.py:609: DeprecationWarning: `checkpoint_dir` in `func(config, checkpoint_dir)` is being deprecated. To save and load checkpoint in trainable functions, please use the `ray.air.session` API:\n",
            "\n",
            "from ray.air import session\n",
            "\n",
            "def train(config):\n",
            "    # ...\n",
            "    session.report({\"metric\": metric}, checkpoint=checkpoint)\n",
            "\n",
            "For more information please see https://docs.ray.io/en/master/tune/api_docs/trainable.html\n",
            "\n",
            "  warnings.warn(\n",
            "2022-12-11 14:56:01,834\tINFO tune.py:777 -- Total run time: 786.82 seconds (786.48 seconds for the tuning loop).\n"
          ]
        },
        {
          "name": "stdout",
          "output_type": "stream",
          "text": [
            "\n",
            "Model: baseline\n",
            "Best trial config: {'alpha': 1, 'batch_size': 16, 'lr': 0.003, 'min_delta': -0.005}\n",
            "Best trial final validation loss: 0.6508886274404642\n",
            "Best trial final validation accuracy: 0.8233991832267947\n",
            "\n"
          ]
        },
        {
          "name": "stderr",
          "output_type": "stream",
          "text": [
            "2022-12-11 15:09:05,751\tINFO tune.py:777 -- Total run time: 776.06 seconds (775.64 seconds for the tuning loop).\n"
          ]
        },
        {
          "name": "stdout",
          "output_type": "stream",
          "text": [
            "\n",
            "Model: gru\n",
            "Best trial config: {'alpha': 1, 'batch_size': 16, 'lr': 0.003, 'min_delta': -0.005}\n",
            "Best trial final validation loss: 0.7136004552608584\n",
            "Best trial final validation accuracy: 0.816640795004077\n",
            "\n"
          ]
        },
        {
          "name": "stderr",
          "output_type": "stream",
          "text": [
            "2022-12-11 15:22:42,818\tINFO tune.py:777 -- Total run time: 812.12 seconds (811.69 seconds for the tuning loop).\n"
          ]
        },
        {
          "name": "stdout",
          "output_type": "stream",
          "text": [
            "\n",
            "Model: additional_biLSTM_layer\n",
            "Best trial config: {'alpha': 1, 'batch_size': 16, 'lr': 0.003, 'min_delta': -0.005}\n",
            "Best trial final validation loss: 0.732228283838528\n",
            "Best trial final validation accuracy: 0.83358824834591\n",
            "\n"
          ]
        },
        {
          "name": "stderr",
          "output_type": "stream",
          "text": [
            "2022-12-11 15:34:20,443\tINFO tune.py:777 -- Total run time: 692.48 seconds (692.27 seconds for the tuning loop).\n"
          ]
        },
        {
          "name": "stdout",
          "output_type": "stream",
          "text": [
            "\n",
            "Model: additional_fully_connected_layer\n",
            "Best trial config: {'alpha': 1, 'batch_size': 16, 'lr': 0.003, 'min_delta': -0.005}\n",
            "Best trial final validation loss: 0.8310432543114918\n",
            "Best trial final validation accuracy: 0.8314518892183537\n",
            "\n"
          ]
        }
      ],
      "source": [
        "# Number of epochs\n",
        "N_EPOCHS = 15\n",
        "\n",
        "# hyperparameters definition\n",
        "config = {\n",
        "    \"alpha\": tune.grid_search([1, 2, 10]),\n",
        "    \"batch_size\" : tune.grid_search([1, 16, 128]),\n",
        "    \"lr\": tune.grid_search([1e-3, 3e-3]), #1e-2 too bad\n",
        "    \"min_delta\": -5e-3\n",
        "}\n",
        "\n",
        "reporter = JupyterNotebookReporter(metric_columns=[\"val_loss\", \"val_accuracy\", \"train_loss\", \"train_accuracy\"], metric=\"val_accuracy\", mode=\"max\",sort_by_metric=True, print_intermediate_tables=False)\n",
        "\n",
        "# tuning on each of the four models\n",
        "for model_dict in iter(model_dicts.values()):\n",
        "    \n",
        "  torch_train = PandasDataset(train)\n",
        "  torch_val = PandasDataset(val)\n",
        "\n",
        "  result = tune.run(\n",
        "          tune.with_parameters(train_and_eval_model_with_raytune, model_name=model_dict[\"name\"], torch_train=torch_train, torch_val=torch_val, emb_model=emb_model, model_factory=factory, n_epochs=N_EPOCHS, \n",
        "                               criterion=criterion, tag_pad_idx=PAD_INDEX),\n",
        "          resources_per_trial={\"gpu\" if str(device) == \"cuda\" else \"cpu\": 1},\n",
        "          config=config,\n",
        "          num_samples=1, # If grid_search is provided as an argument, the grid will be repeated num_samples of times\n",
        "          progress_reporter=reporter,\n",
        "          verbose=1,\n",
        "          name=model_dict[\"name\"],\n",
        "          checkpoint_score_attr=\"val_accuracy\",\n",
        "          keep_checkpoints_num=1) # we'll keep the best X checkpoints at all times\n",
        "\n",
        "  # get best result and save to model dictionary\n",
        "  best_trial = result.get_best_trial(metric=\"val_accuracy\", mode=\"max\", scope='all')\n",
        "  print(\"\\nModel: {}\".format(model_dict[\"name\"]))\n",
        "  print(\"Best trial config: {}\".format(best_trial.config))\n",
        "  print(\"Best trial final validation loss: {}\".format(best_trial.last_result[\"val_loss\"]))\n",
        "  print(\"Best trial final validation accuracy: {}\\n\".format(best_trial.last_result[\"val_accuracy\"]))\n",
        "\n",
        "  model_dict[\"best_config\"] = best_trial.config\n",
        "  model_dict[\"best_loss\"] = best_trial.last_result[\"val_loss\"]\n",
        "  model_dict[\"best_accuracy\"] = best_trial.last_result[\"val_accuracy\"]\n",
        "\n",
        "  best_trained_model = factory.get_model(model_dict[\"name\"], best_trial.config)\n",
        "  best_trained_model.to(device)\n",
        "\n",
        "  best_checkpoint_dir = best_trial.checkpoint.dir_or_data\n",
        "  model_state, optimizer_state = torch.load(os.path.join(best_checkpoint_dir, \"checkpoint\"))\n",
        "  best_trained_model.load_state_dict(model_state)\n",
        "  model_dict[\"best_trained_model\"] = best_trained_model\n",
        "\n",
        "  best_trial_key = result.get_best_logdir(metric=\"val_accuracy\", mode=\"max\")\n",
        "  model_dict[\"best_dataframe\"] = result.trial_dataframes[best_trial_key]"
      ]
    },
    {
      "attachments": {},
      "cell_type": "markdown",
      "metadata": {},
      "source": [
        "Saving dataframes and model weights"
      ]
    },
    {
      "cell_type": "code",
      "execution_count": 52,
      "metadata": {
        "colab": {
          "base_uri": "https://localhost:8080/"
        },
        "id": "wQfhAx4WCToB",
        "outputId": "2ea66d76-275f-4e56-addf-28f3bd5d5373"
      },
      "outputs": [
        {
          "name": "stdout",
          "output_type": "stream",
          "text": [
            "Saving dataframes to .csv in /content/best_dataframes\n",
            "Saving models in /content/best_weights\n",
            "Done\n"
          ]
        }
      ],
      "source": [
        "# save dataframe training history for each best model\n",
        "print(f'Saving dataframes to .csv in {os.path.abspath(best_dataframes_dir)}')\n",
        "print(f'Saving models in {os.path.abspath(best_weights_dir)}')\n",
        "for model_dict in iter(model_dicts.values()):\n",
        "  # save training history to file\n",
        "  path = os.path.join(best_dataframes_dir, model_dict[\"name\"]+\".csv\")\n",
        "  model_dict[\"best_dataframe\"].to_csv(path_or_buf=path)\n",
        "  # save weights to file\n",
        "  path = os.path.join(best_weights_dir, model_dict[\"name\"])\n",
        "  torch.save(best_trained_model, path)\n",
        "print('Done')"
      ]
    },
    {
      "cell_type": "code",
      "execution_count": 53,
      "metadata": {
        "id": "ZbCPY4BUFimD"
      },
      "outputs": [],
      "source": [
        "# clean ray tune folders\n",
        "! rm -r /root/ray_results\n",
        "ray.shutdown()"
      ]
    },
    {
      "attachments": {},
      "cell_type": "markdown",
      "metadata": {
        "id": "gl2FP1EWS2uj"
      },
      "source": [
        "# Testing and analysis"
      ]
    },
    {
      "attachments": {},
      "cell_type": "markdown",
      "metadata": {},
      "source": [
        "Optional loading from directories"
      ]
    },
    {
      "cell_type": "code",
      "execution_count": 54,
      "metadata": {
        "id": "w56f1IBKQRY-"
      },
      "outputs": [],
      "source": [
        "load_from_dir = False # true if training was done previously\n",
        "if load_from_dir:\n",
        "  for model_dict in iter(model_dicts.values()):\n",
        "    path = os.path.join(best_weights_dir, model_dict[\"name\"])\n",
        "    model_dict[\"best_trained_model\"] = torch.load(path)"
      ]
    },
    {
      "cell_type": "code",
      "execution_count": 55,
      "metadata": {
        "id": "fPUSZ-CvDmwi"
      },
      "outputs": [],
      "source": [
        "load_from_dir = False # true if training was done previously\n",
        "if load_from_dir:\n",
        "  for model_dict in iter(model_dicts.values()):\n",
        "    path = os.path.join(best_dataframes_dir, model_dict[\"name\"])\n",
        "    model_dict[\"best_dataframe\"] = pd.read_csv(filepath_or_buffer=path, index_col=0)"
      ]
    },
    {
      "attachments": {},
      "cell_type": "markdown",
      "metadata": {},
      "source": [
        "Plotting validation loss and accuracy for all best models"
      ]
    },
    {
      "cell_type": "code",
      "execution_count": 56,
      "metadata": {
        "colab": {
          "base_uri": "https://localhost:8080/",
          "height": 709
        },
        "execution": {
          "iopub.execute_input": "2022-11-30T15:05:29.115673Z",
          "iopub.status.busy": "2022-11-30T15:05:29.114673Z",
          "iopub.status.idle": "2022-11-30T15:05:29.122667Z",
          "shell.execute_reply": "2022-11-30T15:05:29.121164Z",
          "shell.execute_reply.started": "2022-11-30T15:05:29.115626Z"
        },
        "id": "l2Ip1tC7Kvao",
        "outputId": "bdf23e3f-1a65-47c4-c84d-52bc01d4f533",
        "trusted": true
      },
      "outputs": [
        {
          "name": "stderr",
          "output_type": "stream",
          "text": [
            "<ipython-input-42-5d6145734f1e>:7: MatplotlibDeprecationWarning: Adding an axes using the same arguments as a previous axes currently reuses the earlier instance.  In a future version, a new instance will always be created and returned.  Meanwhile, this warning can be suppressed, and the future behavior ensured, by passing a unique label to each axes instance.\n",
            "  ax = plt.subplot(111)\n"
          ]
        },
        {
          "data": {
            "image/png": "[encoded data removed]",
            "text/plain": [
              "<Figure size 720x360 with 1 Axes>"
            ]
          },
          "metadata": {
            "needs_background": "light"
          },
          "output_type": "display_data"
        },
        {
          "data": {
            "image/png": "[encoded data removed]",
            "text/plain": [
              "<Figure size 720x360 with 1 Axes>"
            ]
          },
          "metadata": {
            "needs_background": "light"
          },
          "output_type": "display_data"
        }
      ],
      "source": [
        "plot_measure(model_dicts, measure=\"val_loss\")\n",
        "plot_measure(model_dicts, measure=\"val_accuracy\")"
      ]
    },
    {
      "cell_type": "markdown",
      "metadata": {
        "id": "1ALhTyW18kh7"
      },
      "source": [
        "Select the best two models for testing"
      ]
    },
    {
      "cell_type": "code",
      "execution_count": 57,
      "metadata": {
        "id": "8gRAsHK98kAu"
      },
      "outputs": [],
      "source": [
        "ranked_models = sorted(iter(model_dicts.values()), key=lambda x: x['best_accuracy'], reverse=True)"
      ]
    },
    {
      "cell_type": "code",
      "execution_count": 58,
      "metadata": {
        "colab": {
          "base_uri": "https://localhost:8080/"
        },
        "id": "-VZZr0QW9uE7",
        "outputId": "363653ca-8245-49e2-b1cc-b844087c5d65"
      },
      "outputs": [
        {
          "name": "stdout",
          "output_type": "stream",
          "text": [
            "1. additional_biLSTM_layer, val_acc: 0.834\n",
            "\tbest hyper-pars: {'alpha': 1, 'batch_size': 16, 'lr': 0.003, 'min_delta': -0.005}\n",
            "2. additional_fully_connected_layer, val_acc: 0.831\n",
            "\tbest hyper-pars: {'alpha': 1, 'batch_size': 16, 'lr': 0.003, 'min_delta': -0.005}\n",
            "3. baseline, val_acc: 0.823\n",
            "\tbest hyper-pars: {'alpha': 1, 'batch_size': 16, 'lr': 0.003, 'min_delta': -0.005}\n",
            "4. gru, val_acc: 0.817\n",
            "\tbest hyper-pars: {'alpha': 1, 'batch_size': 16, 'lr': 0.003, 'min_delta': -0.005}\n"
          ]
        }
      ],
      "source": [
        "for model_dict, i in zip(ranked_models, range(1,len(ranked_models)+1)):\n",
        "  print(f\"{i}. {model_dict['name']}, val_acc: {model_dict['best_accuracy']:.3f}\")\n",
        "  print(f\"\\tbest hyper-pars: {model_dict['best_config']}\")"
      ]
    },
    {
      "attachments": {},
      "cell_type": "markdown",
      "metadata": {},
      "source": [
        "Visualize confusion matrix on the test set for the two best models"
      ]
    },
    {
      "cell_type": "code",
      "execution_count": 59,
      "metadata": {
        "colab": {
          "base_uri": "https://localhost:8080/",
          "height": 1000
        },
        "id": "Q06E8Fshkv96",
        "outputId": "dd40a718-df4d-4c69-d955-94771f018c67"
      },
      "outputs": [
        {
          "data": {
            "image/png": "[encoded data removed]",
            "text/plain": [
              "<Figure size 720x720 with 2 Axes>"
            ]
          },
          "metadata": {
            "needs_background": "light"
          },
          "output_type": "display_data"
        },
        {
          "data": {
            "image/png": "[encoded data removed]",
            "text/plain": [
              "<Figure size 720x720 with 2 Axes>"
            ]
          },
          "metadata": {
            "needs_background": "light"
          },
          "output_type": "display_data"
        }
      ],
      "source": [
        "# create test dataloader\n",
        "torch_test = PandasDataset(test)\n",
        "test_dataloader = DataLoader(torch_test, batch_size=1, shuffle=False, collate_fn=lambda x: tuple(x_.to(device) for x_ in pad_batch(x, emb_model)))\n",
        "# compute report and conf matrix for the two best models\n",
        "for model_dict in ranked_models[:2]:\n",
        "  # compute predictions\n",
        "  y_pred, y_true = get_ys(model_dict['best_trained_model'], test_dataloader,\n",
        "                          PAD_INDEX, ignore_idx=ignore_idx)\n",
        "  # also compute the classification report\n",
        "  model_dict['classification_report'] = get_classification_report(y_pred, y_true)\n",
        "  title = f\"Confusion matrix for model '{model_dict['name']}'\"\n",
        "  plot_confusion_matrix(y_pred, y_true, normalize='true', title=title);"
      ]
    },
    {
      "attachments": {},
      "cell_type": "markdown",
      "metadata": {},
      "source": [
        "Print the classification reports for the two best models on the test set"
      ]
    },
    {
      "cell_type": "code",
      "execution_count": 60,
      "metadata": {
        "colab": {
          "base_uri": "https://localhost:8080/"
        },
        "id": "gA5JrnqwmMHc",
        "outputId": "a9ba070a-f6b9-4895-9da9-3dd8c3da44d4"
      },
      "outputs": [
        {
          "name": "stdout",
          "output_type": "stream",
          "text": [
            "              precision    recall  f1-score   support\n",
            "\n",
            "         NNP       0.61      0.84      0.71      1504\n",
            "          CD       0.96      0.80      0.87       858\n",
            "         NNS       0.78      0.68      0.72       941\n",
            "          JJ       0.67      0.61      0.64       918\n",
            "          MD       0.96      0.99      0.98       167\n",
            "          VB       0.84      0.91      0.87       403\n",
            "          DT       0.98      0.99      0.99      1335\n",
            "          NN       0.79      0.77      0.78      2383\n",
            "          IN       0.96      0.96      0.96      1630\n",
            "         VBZ       0.86      0.79      0.83       280\n",
            "         VBG       0.74      0.45      0.56       221\n",
            "          CC       0.99      1.00      0.99       366\n",
            "         VBD       0.86      0.82      0.84       634\n",
            "         VBN       0.68      0.65      0.67       366\n",
            "          RB       0.71      0.68      0.70       381\n",
            "          TO       1.00      1.00      1.00       386\n",
            "         PRP       0.97      0.97      0.97       192\n",
            "         RBR       0.50      0.20      0.29        15\n",
            "         WDT       0.91      0.98      0.94        84\n",
            "         VBP       0.80      0.77      0.79       134\n",
            "          RP       0.55      0.64      0.59        33\n",
            "        PRP$       1.00      0.99      0.99        99\n",
            "         JJS       0.80      0.65      0.71        31\n",
            "         POS       0.98      0.99      0.99       152\n",
            "          EX       0.83      1.00      0.91         5\n",
            "          WP       1.00      1.00      1.00        20\n",
            "         JJR       0.77      0.80      0.78        59\n",
            "         WRB       1.00      0.88      0.93        24\n",
            "        NNPS       0.25      0.02      0.04        44\n",
            "         WP$       1.00      0.50      0.67         4\n",
            "         PDT       0.00      0.00      0.00         4\n",
            "         RBS       0.20      0.33      0.25         3\n",
            "          FW       0.00      0.00      0.00         0\n",
            "          UH       0.00      0.00      0.00         0\n",
            "          LS       0.00      0.00      0.00         0\n",
            "\n",
            "   micro avg       0.82      0.82      0.82     13676\n",
            "   macro avg       0.71      0.68      0.68     13676\n",
            "weighted avg       0.83      0.82      0.82     13676\n",
            "\n",
            "              precision    recall  f1-score   support\n",
            "\n",
            "         NNP       0.64      0.74      0.69      1504\n",
            "          CD       0.95      0.76      0.85       858\n",
            "         NNS       0.76      0.70      0.73       941\n",
            "          JJ       0.66      0.64      0.65       918\n",
            "          MD       0.95      1.00      0.97       167\n",
            "          VB       0.83      0.89      0.86       403\n",
            "          DT       0.96      1.00      0.98      1335\n",
            "          NN       0.78      0.77      0.77      2383\n",
            "          IN       0.96      0.95      0.96      1630\n",
            "         VBZ       0.90      0.79      0.84       280\n",
            "         VBG       0.63      0.51      0.56       221\n",
            "          CC       0.99      1.00      0.99       366\n",
            "         VBD       0.77      0.84      0.80       634\n",
            "         VBN       0.63      0.68      0.65       366\n",
            "          RB       0.69      0.71      0.70       381\n",
            "          TO       1.00      1.00      1.00       386\n",
            "         PRP       0.99      0.98      0.99       192\n",
            "         RBR       0.67      0.13      0.22        15\n",
            "         WDT       0.99      0.80      0.88        84\n",
            "         VBP       0.69      0.76      0.72       134\n",
            "          RP       0.50      0.42      0.46        33\n",
            "        PRP$       0.97      0.99      0.98        99\n",
            "         JJS       0.88      0.71      0.79        31\n",
            "         POS       0.99      1.00      0.99       152\n",
            "          EX       0.83      1.00      0.91         5\n",
            "          WP       1.00      1.00      1.00        20\n",
            "         JJR       0.70      0.83      0.76        59\n",
            "         WRB       1.00      0.83      0.91        24\n",
            "        NNPS       0.00      0.00      0.00        44\n",
            "         WP$       1.00      0.75      0.86         4\n",
            "         PDT       1.00      0.25      0.40         4\n",
            "         RBS       0.33      0.67      0.44         3\n",
            "          FW       0.00      0.00      0.00         0\n",
            "          UH       0.00      0.00      0.00         0\n",
            "          LS       0.00      0.00      0.00         0\n",
            "\n",
            "   micro avg       0.82      0.82      0.82     13676\n",
            "   macro avg       0.73      0.69      0.69     13676\n",
            "weighted avg       0.82      0.82      0.81     13676\n",
            "\n"
          ]
        }
      ],
      "source": [
        "for model_dict in ranked_models[:2]:\n",
        "  print(model_dict['classification_report'])"
      ]
    },
    {
      "attachments": {},
      "cell_type": "markdown",
      "metadata": {
        "id": "IH_I0LMVZgAq"
      },
      "source": [
        "# Most Frequent Class Baseline results"
      ]
    },
    {
      "attachments": {},
      "cell_type": "markdown",
      "metadata": {},
      "source": [
        "## Building the baseline"
      ]
    },
    {
      "cell_type": "code",
      "execution_count": 61,
      "metadata": {
        "colab": {
          "base_uri": "https://localhost:8080/"
        },
        "id": "ItS9MLsXB82_",
        "outputId": "e4a76c03-9b5c-4169-966d-678a00d53b83"
      },
      "outputs": [
        {
          "name": "stdout",
          "output_type": "stream",
          "text": [
            "(47356, 2)\n",
            "(41274, 2)\n"
          ]
        }
      ],
      "source": [
        "# drop punctuation\n",
        "train_frequency = train[[\"token_idx\", \"tag_idx\"]].copy()\n",
        "print(train_frequency.shape)\n",
        "train_frequency = train_frequency[~train_frequency[\"tag_idx\"].isin(ignore_idx)]\n",
        "print(train_frequency.shape)"
      ]
    },
    {
      "cell_type": "code",
      "execution_count": null,
      "metadata": {
        "colab": {
          "base_uri": "https://localhost:8080/"
        },
        "id": "7sfDYQrZZfSO",
        "outputId": "a4c3361e-242c-4587-84e8-9c215495f1cc"
      },
      "outputs": [],
      "source": [
        "most_freq_class_baseline = train_frequency.groupby(['token_idx'])['tag_idx'].agg(pd.Series.mode).to_frame(name = \"most_frequent_tag_index\").reset_index()\n",
        "dict_freq = most_freq_class_baseline.set_index('token_idx')['most_frequent_tag_index'].to_dict()"
      ]
    },
    {
      "cell_type": "code",
      "execution_count": 63,
      "metadata": {
        "colab": {
          "base_uri": "https://localhost:8080/"
        },
        "id": "s8uJ_Nkma1V1",
        "outputId": "afa8b5a7-04d1-40f7-9d41-c2f6d880f122"
      },
      "outputs": [
        {
          "name": "stdout",
          "output_type": "stream",
          "text": [
            "(15545, 2)\n",
            "(13676, 2)\n"
          ]
        }
      ],
      "source": [
        "test_frequency = test[[\"token_idx\", \"tag_idx\"]].copy()\n",
        "# drop punctuation\n",
        "print(test_frequency.shape)\n",
        "test_frequency = test_frequency[~test_frequency[\"tag_idx\"].isin(ignore_idx)]\n",
        "print(test_frequency.shape)"
      ]
    },
    {
      "cell_type": "code",
      "execution_count": 64,
      "metadata": {
        "colab": {
          "base_uri": "https://localhost:8080/"
        },
        "id": "MGQ_csuPkByx",
        "outputId": "5498d106-b6ef-450e-8e15-aa69fe5def35"
      },
      "outputs": [
        {
          "name": "stdout",
          "output_type": "stream",
          "text": [
            "8\n"
          ]
        }
      ],
      "source": [
        "# find the most common tag of the trainset, to give it to the oov words\n",
        "most_freq_tag = train[\"tag_idx\"].mode()[0]  \n",
        "print(most_freq_tag)"
      ]
    },
    {
      "attachments": {},
      "cell_type": "markdown",
      "metadata": {},
      "source": [
        "Function that maps each token to the most frequent tag associated with it"
      ]
    },
    {
      "cell_type": "code",
      "execution_count": 65,
      "metadata": {
        "id": "gmC1B8LZiGAQ"
      },
      "outputs": [],
      "source": [
        "def map_frequencies(x):\n",
        "  result = None\n",
        "  try:\n",
        "    result = dict_freq[x]\n",
        "  except:\n",
        "    # if not in the training set, assign the most frequent tag in general\n",
        "    result = most_freq_tag\n",
        "    return result\n",
        "  try:\n",
        "    result = int(result)\n",
        "  except:\n",
        "    # if mode returns more than 1 values\n",
        "    result = int(result[0])\n",
        "  return result"
      ]
    },
    {
      "cell_type": "code",
      "execution_count": 66,
      "metadata": {
        "id": "kXwYuRzCfnYM"
      },
      "outputs": [],
      "source": [
        "test_frequency[\"baseline_freq_pred\"] = test_frequency[\"token_idx\"].map(lambda x : map_frequencies(x))"
      ]
    },
    {
      "attachments": {},
      "cell_type": "markdown",
      "metadata": {},
      "source": [
        "## Compute test metrics for the Most Frequent Class Baseline"
      ]
    },
    {
      "attachments": {},
      "cell_type": "markdown",
      "metadata": {},
      "source": [
        "Add column counting correct predictions"
      ]
    },
    {
      "cell_type": "code",
      "execution_count": 68,
      "metadata": {
        "colab": {
          "base_uri": "https://localhost:8080/"
        },
        "id": "KrX5qCBAKFY2",
        "outputId": "3892aceb-72b4-462c-86e1-8aed73597c59"
      },
      "outputs": [
        {
          "name": "stdout",
          "output_type": "stream",
          "text": [
            "       token_idx  tag_idx  baseline_freq_pred  are_equal\n",
            "78539     400549        0                   8      False\n",
            "78540       7838        0                   8      False\n",
            "78541        731        0                   0       True\n",
            "78543        614        0                   0       True\n",
            "78544       2963        0                   0       True\n",
            "...          ...      ...                 ...        ...\n",
            "94078         58        4                   4       True\n",
            "94079        548        8                   8       True\n",
            "94080          3        9                   9       True\n",
            "94081        182        4                   4       True\n",
            "94082         62        8                   8       True\n",
            "\n",
            "[13676 rows x 4 columns]\n",
            "11148\n"
          ]
        }
      ],
      "source": [
        "test_frequency[\"are_equal\"] = test_frequency.apply(lambda row: row[\"tag_idx\"] == row[\"baseline_freq_pred\"], axis=1)\n",
        "print(test_frequency)\n",
        "\n",
        "total_correct = test_frequency[\"are_equal\"].value_counts().loc[True]\n",
        "\n",
        "print(total_correct)"
      ]
    },
    {
      "attachments": {},
      "cell_type": "markdown",
      "metadata": {},
      "source": [
        "Compute the classification report and test set accuracy for the Most Frequent Class Baseline"
      ]
    },
    {
      "cell_type": "code",
      "execution_count": 69,
      "metadata": {
        "colab": {
          "base_uri": "https://localhost:8080/"
        },
        "id": "eDZD9PCK_ujS",
        "outputId": "bc3abc04-a36f-4ce2-c428-624c510e8846"
      },
      "outputs": [
        {
          "name": "stdout",
          "output_type": "stream",
          "text": [
            "Classification report for the \"most frequent class\" baseline: \n",
            "               precision    recall  f1-score   support\n",
            "\n",
            "         NNP       0.85      0.52      0.64      1504\n",
            "          CD       1.00      0.69      0.82       858\n",
            "         NNS       0.92      0.79      0.85       941\n",
            "          JJ       0.80      0.67      0.73       918\n",
            "          MD       0.97      1.00      0.98       167\n",
            "          VB       0.79      0.60      0.68       403\n",
            "          DT       0.99      0.98      0.99      1335\n",
            "          NN       0.56      0.92      0.70      2383\n",
            "          IN       0.96      0.98      0.97      1630\n",
            "         VBZ       0.94      0.85      0.89       280\n",
            "         VBG       0.92      0.64      0.76       221\n",
            "          CC       0.99      1.00      0.99       366\n",
            "         VBD       0.87      0.82      0.84       634\n",
            "         VBN       0.73      0.52      0.61       366\n",
            "          RB       0.91      0.80      0.85       381\n",
            "          TO       1.00      1.00      1.00       386\n",
            "         PRP       1.00      0.99      1.00       192\n",
            "         RBR       0.40      0.80      0.53        15\n",
            "         WDT       1.00      0.67      0.80        84\n",
            "         VBP       0.67      0.71      0.69       134\n",
            "          RP       0.36      0.73      0.48        33\n",
            "        PRP$       1.00      1.00      1.00        99\n",
            "         JJS       0.91      1.00      0.95        31\n",
            "         POS       0.96      1.00      0.98       152\n",
            "          EX       0.83      1.00      0.91         5\n",
            "          WP       1.00      1.00      1.00        20\n",
            "         JJR       0.90      0.63      0.74        59\n",
            "         WRB       1.00      0.96      0.98        24\n",
            "        NNPS       0.67      0.05      0.09        44\n",
            "         WP$       1.00      1.00      1.00         4\n",
            "         PDT       0.00      0.00      0.00         4\n",
            "         RBS       0.00      0.00      0.00         3\n",
            "          FW       0.00      0.00      0.00         0\n",
            "          UH       0.00      0.00      0.00         0\n",
            "          LS       0.00      0.00      0.00         0\n",
            "\n",
            "   micro avg       0.82      0.82      0.82     13676\n",
            "   macro avg       0.74      0.69      0.70     13676\n",
            "weighted avg       0.85      0.82      0.82     13676\n",
            "\n",
            "Accuracy for the \"most frequent class\" baseline: 0.82\n"
          ]
        }
      ],
      "source": [
        "report = get_classification_report(y_pred=test_frequency['baseline_freq_pred'], y_true=test_frequency['tag_idx'])\n",
        "print(f'Classification report for the \"most frequent class\" baseline: \\n {report}')\n",
        "accuracy_baseline = total_correct / len(test_frequency)\n",
        "print(f'Accuracy for the \"most frequent class\" baseline: {accuracy_baseline:.2f}')"
      ]
    },
    {
      "attachments": {},
      "cell_type": "markdown",
      "metadata": {},
      "source": [
        "Visualize the confusion matrix for the Most Frequent Class Baseline on the test set"
      ]
    },
    {
      "cell_type": "code",
      "execution_count": 70,
      "metadata": {
        "colab": {
          "base_uri": "https://localhost:8080/",
          "height": 584
        },
        "id": "FXPZ8YOMJH0b",
        "outputId": "494401d8-b0ec-421b-e0e1-f0777d87a36f"
      },
      "outputs": [
        {
          "data": {
            "image/png": "[encoded data removed]",
            "text/plain": [
              "<Figure size 720x720 with 2 Axes>"
            ]
          },
          "metadata": {
            "needs_background": "light"
          },
          "output_type": "display_data"
        }
      ],
      "source": [
        "title = 'Confusion matrix for the \"most frequent class\" baseline'\n",
        "plot_confusion_matrix(y_pred=test_frequency['baseline_freq_pred'], y_true=test_frequency['tag_idx'], title=title)"
      ]
    }
  ],
  "metadata": {
    "accelerator": "GPU",
    "colab": {
      "collapsed_sections": [
        "-jh1KPQzit9M",
        "2ce9IKa3iy8U",
        "K4CrLoIuCsWW"
      ],
      "provenance": []
    },
    "gpuClass": "standard",
    "kernelspec": {
      "display_name": "Python 3",
      "language": "python",
      "name": "python3"
    },
    "language_info": {
      "codemirror_mode": {
        "name": "ipython",
        "version": 3
      },
      "file_extension": ".py",
      "mimetype": "text/x-python",
      "name": "python",
      "nbconvert_exporter": "python",
      "pygments_lexer": "ipython3",
      "version": "3.9.5 (default, May 18 2021, 14:42:02) [MSC v.1916 64 bit (AMD64)]"
    },
    "vscode": {
      "interpreter": {
        "hash": "88279d2366fe020547cde40dd65aa0e3aa662a6ec1f3ca12d88834876c85e1a6"
      }
    }
  },
  "nbformat": 4,
  "nbformat_minor": 0
}
